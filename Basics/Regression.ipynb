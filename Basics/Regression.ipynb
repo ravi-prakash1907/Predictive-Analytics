{
  "nbformat": 4,
  "nbformat_minor": 0,
  "metadata": {
    "colab": {
      "name": "Untitled9.ipynb",
      "provenance": [],
      "authorship_tag": "ABX9TyOuAHYMrXcahA53o/tZYj6m",
      "include_colab_link": true
    },
    "kernelspec": {
      "name": "python3",
      "display_name": "Python 3"
    },
    "language_info": {
      "name": "python"
    }
  },
  "cells": [
    {
      "cell_type": "markdown",
      "metadata": {
        "id": "view-in-github",
        "colab_type": "text"
      },
      "source": [
        "<a href=\"https://colab.research.google.com/github/ravi-prakash1907/Predictive-Analytics/blob/main/Basics/Regression.ipynb\" target=\"_parent\"><img src=\"https://colab.research.google.com/assets/colab-badge.svg\" alt=\"Open In Colab\"/></a>"
      ]
    },
    {
      "cell_type": "markdown",
      "metadata": {
        "id": "YFDsq30d_MpL"
      },
      "source": [
        "# Regression Problem"
      ]
    },
    {
      "cell_type": "markdown",
      "metadata": {
        "id": "hDyGuxtj9P7J"
      },
      "source": [
        "## Problem  \n",
        "\n",
        "There are 14 variables in the data which are: \n",
        "\n",
        "CRIM - per capita crime rate by town  \n",
        "ZN - proportion of residential land zoned for lots over 25,000 sq.ft.  \n",
        "INDUS - proportion of non-retail business acres per town.  \n",
        "CHAS - Charles River dummy variable (1 if tract bounds river; 0 otherwise)  \n",
        "NOX - nitric oxides concentration (parts per 10 million)  \n",
        "RM - average number of rooms per dwelling  \n",
        "AGE - proportion of owner-occupied units built prior to 1940  \n",
        "DIS - weighted distances to five Boston employment centres  \n",
        "RAD - index of accessibility to radial highways  \n",
        "TAX - full-value property-tax rate per \\$10,000  \n",
        "PTRATIO - pupil-teacher ratio by town  \n",
        "B - $1000(Bk - 0.63)^2$ where Bk is the proportion of blacks by town  \n",
        "LSTAT - % lower status of the population  \n",
        "MEDV - Median value of owner-occupied homes in \\$1000's  \n",
        "\n",
        "---  \n",
        "_First report EDA, followed by regression analysis to predict the price of a house_"
      ]
    },
    {
      "cell_type": "code",
      "metadata": {
        "id": "h_Y31DAL8vs7"
      },
      "source": [
        ""
      ],
      "execution_count": null,
      "outputs": []
    }
  ]
}