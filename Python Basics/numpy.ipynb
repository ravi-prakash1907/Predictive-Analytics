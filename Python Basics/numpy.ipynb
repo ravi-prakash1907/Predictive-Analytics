{
  "nbformat": 4,
  "nbformat_minor": 0,
  "metadata": {
    "colab": {
      "name": "numpy.ipynb",
      "provenance": [],
      "authorship_tag": "ABX9TyOLHWOGLMviYKU4gT9TWT/M",
      "include_colab_link": true
    },
    "kernelspec": {
      "name": "python3",
      "display_name": "Python 3"
    },
    "language_info": {
      "name": "python"
    }
  },
  "cells": [
    {
      "cell_type": "markdown",
      "metadata": {
        "id": "view-in-github",
        "colab_type": "text"
      },
      "source": [
        "<a href=\"https://colab.research.google.com/github/ravi-prakash1907/Predictive-Analytics/blob/tuts/Python%20Basics/numpy.ipynb\" target=\"_parent\"><img src=\"https://colab.research.google.com/assets/colab-badge.svg\" alt=\"Open In Colab\"/></a>"
      ]
    },
    {
      "cell_type": "markdown",
      "metadata": {
        "id": "nReEieLsgi-t"
      },
      "source": [
        "# Basics of NumPy\n",
        "1. Intro  \n",
        "2. NumPy vs List  \n",
        "3. Operations on NumPy Array  \n",
        "4. Mathematical & Statistical  Funstions"
      ]
    },
    {
      "cell_type": "code",
      "metadata": {
        "id": "nF3-gAQjgn53"
      },
      "source": [
        "## loading library\n",
        "import numpy as np"
      ],
      "execution_count": 1,
      "outputs": []
    },
    {
      "cell_type": "markdown",
      "metadata": {
        "id": "VgZSgdxt0KPG"
      },
      "source": [
        "### Intro\n",
        "_Creating a numpy array_"
      ]
    },
    {
      "cell_type": "code",
      "metadata": {
        "id": "LcPU-uWIggta",
        "outputId": "3f8d1164-7142-4edd-d5d9-cd59b37d2729",
        "colab": {
          "base_uri": "https://localhost:8080/"
        }
      },
      "source": [
        "## creating array\n",
        "a = np.array([1,2,3])\n",
        "print(a)\n",
        "type(a)"
      ],
      "execution_count": 3,
      "outputs": [
        {
          "output_type": "stream",
          "text": [
            "[1 2 3]\n"
          ],
          "name": "stdout"
        },
        {
          "output_type": "execute_result",
          "data": {
            "text/plain": [
              "numpy.ndarray"
            ]
          },
          "metadata": {
            "tags": []
          },
          "execution_count": 3
        }
      ]
    },
    {
      "cell_type": "code",
      "metadata": {
        "id": "qm02Uaweg8zd",
        "outputId": "f8732ec4-edc4-4795-ccd5-24cc7bd720eb",
        "colab": {
          "base_uri": "https://localhost:8080/"
        }
      },
      "source": [
        "a = np.array([(1,2,3),(4,5,6)])\n",
        "print(a)"
      ],
      "execution_count": 4,
      "outputs": [
        {
          "output_type": "stream",
          "text": [
            "[[1 2 3]\n",
            " [4 5 6]]\n"
          ],
          "name": "stdout"
        }
      ]
    },
    {
      "cell_type": "markdown",
      "metadata": {
        "id": "F3E3Zb2yhEKa"
      },
      "source": [
        "### NumPy vs List\n",
        "NumPy is prefered over the Lists, because:  \n",
        "1. Occupies less memory  \n",
        "2. Fast  \n",
        "3. Convenient to work with NumPy arr"
      ]
    },
    {
      "cell_type": "markdown",
      "metadata": {
        "id": "M17cuOojheWP"
      },
      "source": [
        "**validating...**"
      ]
    },
    {
      "cell_type": "code",
      "metadata": {
        "id": "_QHaKOBIhDVz"
      },
      "source": [
        "## loading lib\n",
        "import time\n",
        "import sys"
      ],
      "execution_count": 5,
      "outputs": []
    },
    {
      "cell_type": "markdown",
      "metadata": {
        "id": "loFUhHJpjP6r"
      },
      "source": [
        "##### **Memory comparision**"
      ]
    },
    {
      "cell_type": "code",
      "metadata": {
        "id": "ESIfYGPPhnVt",
        "outputId": "4ac2374e-60b2-468d-bdfe-71159abd3bf0",
        "colab": {
          "base_uri": "https://localhost:8080/"
        }
      },
      "source": [
        "L1 = range(1000)  # 0-999\n",
        "print(\"Size of list = \",len(L1))\n",
        "print(\"Size of any single element in array = \",sys.getsizeof(L1[0]))\n",
        "print(\"Space occupied our list is {}\".format(sys.getsizeof(5)*len(L1)))"
      ],
      "execution_count": 6,
      "outputs": [
        {
          "output_type": "stream",
          "text": [
            "Size of list =  1000\n",
            "Size of any single element in array =  24\n",
            "Space occupied our list is 28000\n"
          ],
          "name": "stdout"
        }
      ]
    },
    {
      "cell_type": "code",
      "metadata": {
        "id": "R3bOLsTjiCNY",
        "outputId": "79995042-320e-43cc-8255-d59190c1a85c",
        "colab": {
          "base_uri": "https://localhost:8080/"
        }
      },
      "source": [
        "Arr1 = np.arange(1000)\n",
        "print(\"Size of array = \",Arr1.size)\n",
        "print(\"Size of any single element in array = \",Arr1.itemsize)\n",
        "print(\"Space occupied by our np.array is {}\".format(Arr1.size*Arr1.itemsize))"
      ],
      "execution_count": 7,
      "outputs": [
        {
          "output_type": "stream",
          "text": [
            "Size of array =  1000\n",
            "Size of any single element in array =  8\n",
            "Space occupied by our np.array is 8000\n"
          ],
          "name": "stdout"
        }
      ]
    },
    {
      "cell_type": "markdown",
      "metadata": {
        "id": "EVF5eUl_jL0M"
      },
      "source": [
        "---\n",
        "\n",
        "##### **Speed comparision**"
      ]
    },
    {
      "cell_type": "code",
      "metadata": {
        "id": "zPIj4ZajiTo7"
      },
      "source": [
        "Size = 100000\n",
        "\n",
        "## adding 2 lists/arrays\n",
        "L1 = range(Size)\n",
        "L2 = range(Size)\n",
        "\n",
        "A1 = np.arange(Size)\n",
        "A2 = np.arange(Size)"
      ],
      "execution_count": 9,
      "outputs": []
    },
    {
      "cell_type": "code",
      "metadata": {
        "id": "6d_2k_eujrul",
        "outputId": "f539d678-277e-4e1f-82c7-394d933181ab",
        "colab": {
          "base_uri": "https://localhost:8080/"
        }
      },
      "source": [
        "start = time.time()\n",
        "result = [(x,y) for x,y in zip(L1,L2)]\n",
        "print(\"Time taken to add lists is {} sec.\".format((time.time()-start)))"
      ],
      "execution_count": 11,
      "outputs": [
        {
          "output_type": "stream",
          "text": [
            "Time taken to add lists is 0.03639554977416992 sec.\n"
          ],
          "name": "stdout"
        }
      ]
    },
    {
      "cell_type": "code",
      "metadata": {
        "id": "VaHsVAVdkSMn",
        "outputId": "35412b1e-be7a-4cd1-f713-d12d84b39b7e",
        "colab": {
          "base_uri": "https://localhost:8080/"
        }
      },
      "source": [
        "start = time.time()\n",
        "## convenient too\n",
        "result = A1+A2\n",
        "print(\"Time taken to add arrays is {} sec.\".format((time.time()-start)))"
      ],
      "execution_count": 12,
      "outputs": [
        {
          "output_type": "stream",
          "text": [
            "Time taken to add arrays is 0.01510930061340332 sec.\n"
          ],
          "name": "stdout"
        }
      ]
    },
    {
      "cell_type": "markdown",
      "metadata": {
        "id": "PhxlQ6LQk3cm"
      },
      "source": [
        "### Operations on NumPy Array"
      ]
    },
    {
      "cell_type": "markdown",
      "metadata": {
        "id": "IdLkV-qjmgy2"
      },
      "source": [
        "#### Basics\n",
        "1. finding dimention  \n",
        "2. getting bytesize  \n",
        "3. finding  data-types"
      ]
    },
    {
      "cell_type": "code",
      "metadata": {
        "id": "gHSWlNtFkfGl",
        "outputId": "d7880511-403f-4efd-ebb2-de8a4cbd7908",
        "colab": {
          "base_uri": "https://localhost:8080/"
        }
      },
      "source": [
        "arr = np.array([[1,2,3],[2,3,4]], dtype='uint64')\n",
        "arr"
      ],
      "execution_count": 24,
      "outputs": [
        {
          "output_type": "execute_result",
          "data": {
            "text/plain": [
              "array([[1, 2, 3],\n",
              "       [2, 3, 4]], dtype=uint64)"
            ]
          },
          "metadata": {
            "tags": []
          },
          "execution_count": 24
        }
      ]
    },
    {
      "cell_type": "code",
      "metadata": {
        "id": "VDr233I8lfUv",
        "outputId": "1316cb24-e24e-4307-f8c5-08f294f7008a",
        "colab": {
          "base_uri": "https://localhost:8080/"
        }
      },
      "source": [
        "## Dimention\n",
        "print(\"Dimention is: \",arr.ndim)\n",
        "## finding byte size\n",
        "print(\"Space occupied by each element (in bytes): \",arr.itemsize)"
      ],
      "execution_count": 17,
      "outputs": [
        {
          "output_type": "stream",
          "text": [
            "Dimention is:  2\n",
            "Space occupied by each element (in bytes):  8\n"
          ],
          "name": "stdout"
        }
      ]
    },
    {
      "cell_type": "code",
      "metadata": {
        "id": "NvbYXumfRtE9",
        "outputId": "e1b708e9-2338-4bff-a90f-eff567e26040",
        "colab": {
          "base_uri": "https://localhost:8080/"
        }
      },
      "source": [
        "c = list(range(2,10,2))\n",
        "c"
      ],
      "execution_count": 20,
      "outputs": [
        {
          "output_type": "execute_result",
          "data": {
            "text/plain": [
              "[2, 4, 6, 8]"
            ]
          },
          "metadata": {
            "tags": []
          },
          "execution_count": 20
        }
      ]
    },
    {
      "cell_type": "code",
      "metadata": {
        "id": "upLSGe56lqPp",
        "outputId": "54cf5e7f-fe43-4521-a42c-34e7eb99157f",
        "colab": {
          "base_uri": "https://localhost:8080/"
        }
      },
      "source": [
        "arr = np.arange(4)\n",
        "\n",
        "## Dimention\n",
        "print(\"Dimention of {} is: {}\".format(arr,arr.ndim))"
      ],
      "execution_count": 23,
      "outputs": [
        {
          "output_type": "stream",
          "text": [
            "Dimention of [0 1 2 3] is: 1\n"
          ],
          "name": "stdout"
        }
      ]
    },
    {
      "cell_type": "code",
      "metadata": {
        "id": "ua2dJlnumFXN",
        "outputId": "e9ea8223-671a-4770-f8c1-4e594ba4d367",
        "colab": {
          "base_uri": "https://localhost:8080/"
        }
      },
      "source": [
        "## datatype\n",
        "arr.dtype"
      ],
      "execution_count": 25,
      "outputs": [
        {
          "output_type": "execute_result",
          "data": {
            "text/plain": [
              "dtype('uint64')"
            ]
          },
          "metadata": {
            "tags": []
          },
          "execution_count": 25
        }
      ]
    },
    {
      "cell_type": "markdown",
      "metadata": {
        "id": "-DavB3Y5mjsA"
      },
      "source": [
        "#### Additional operations\n",
        "1. Size and Shape  \n",
        "2. Reshaping  \n",
        "3. Slicing"
      ]
    },
    {
      "cell_type": "code",
      "metadata": {
        "id": "Kgr11JNjm2PA",
        "outputId": "539edd2a-e531-465f-ddfe-82960a77e8c0",
        "colab": {
          "base_uri": "https://localhost:8080/"
        }
      },
      "source": [
        "arr = np.arange(24)\n",
        "arr"
      ],
      "execution_count": 26,
      "outputs": [
        {
          "output_type": "execute_result",
          "data": {
            "text/plain": [
              "array([ 0,  1,  2,  3,  4,  5,  6,  7,  8,  9, 10, 11, 12, 13, 14, 15, 16,\n",
              "       17, 18, 19, 20, 21, 22, 23])"
            ]
          },
          "metadata": {
            "tags": []
          },
          "execution_count": 26
        }
      ]
    },
    {
      "cell_type": "code",
      "metadata": {
        "id": "UdP8qvmBma4_",
        "outputId": "100cd50e-35b6-4ffe-9bde-26292b48b4a1",
        "colab": {
          "base_uri": "https://localhost:8080/"
        }
      },
      "source": [
        "# size i.e. total elements\n",
        "print(\"Size = \",arr.size)\n",
        "\n",
        "# size total elements in each dim (i.e. in rows and cols)\n",
        "print(\"Shape = \",arr.shape)"
      ],
      "execution_count": 27,
      "outputs": [
        {
          "output_type": "stream",
          "text": [
            "Size =  24\n",
            "Shape =  (24,)\n"
          ],
          "name": "stdout"
        }
      ]
    },
    {
      "cell_type": "code",
      "metadata": {
        "id": "bnaUrs1wonDK",
        "outputId": "570a25fa-11e0-4faf-962d-e27f0a16cd07",
        "colab": {
          "base_uri": "https://localhost:8080/"
        }
      },
      "source": [
        "print(\"Element at index 5: \",arr[4])"
      ],
      "execution_count": 28,
      "outputs": [
        {
          "output_type": "stream",
          "text": [
            "Element at index 5:  4\n"
          ],
          "name": "stdout"
        }
      ]
    },
    {
      "cell_type": "code",
      "metadata": {
        "id": "-X31HszTnLVt",
        "outputId": "95dafc83-24ab-432f-eaad-2b8c08266064",
        "colab": {
          "base_uri": "https://localhost:8080/"
        }
      },
      "source": [
        "arr = arr.reshape(8,3)\n",
        "arr"
      ],
      "execution_count": 29,
      "outputs": [
        {
          "output_type": "execute_result",
          "data": {
            "text/plain": [
              "array([[ 0,  1,  2],\n",
              "       [ 3,  4,  5],\n",
              "       [ 6,  7,  8],\n",
              "       [ 9, 10, 11],\n",
              "       [12, 13, 14],\n",
              "       [15, 16, 17],\n",
              "       [18, 19, 20],\n",
              "       [21, 22, 23]])"
            ]
          },
          "metadata": {
            "tags": []
          },
          "execution_count": 29
        }
      ]
    },
    {
      "cell_type": "code",
      "metadata": {
        "id": "nFd8ORW0nvWk",
        "outputId": "b44020f9-03cc-4b4a-cdcc-1f56f7b3ad34",
        "colab": {
          "base_uri": "https://localhost:8080/"
        }
      },
      "source": [
        "# size i.e. total elements\n",
        "print(\"Size = \",arr.size)\n",
        "\n",
        "# size total elements in each dim (i.e. in rows and cols)\n",
        "print(\"Shape = \",arr.shape)"
      ],
      "execution_count": 30,
      "outputs": [
        {
          "output_type": "stream",
          "text": [
            "Size =  24\n",
            "Shape =  (8, 3)\n"
          ],
          "name": "stdout"
        }
      ]
    },
    {
      "cell_type": "code",
      "metadata": {
        "id": "lv9WSgbKo2zi",
        "outputId": "4c9c65a4-2ec6-462b-f534-2a0944b0af61",
        "colab": {
          "base_uri": "https://localhost:8080/"
        }
      },
      "source": [
        "print(\"Element in row 3 and col 2: \",arr[2,1])"
      ],
      "execution_count": 31,
      "outputs": [
        {
          "output_type": "stream",
          "text": [
            "Element in row 3 and col 2:  7\n"
          ],
          "name": "stdout"
        }
      ]
    },
    {
      "cell_type": "code",
      "metadata": {
        "id": "enMnPpgAoWbH",
        "outputId": "68db16c0-12c6-42e0-feb3-20d9f7960a2a",
        "colab": {
          "base_uri": "https://localhost:8080/"
        }
      },
      "source": [
        "arr = arr.reshape(3,2,4)\n",
        "arr"
      ],
      "execution_count": 33,
      "outputs": [
        {
          "output_type": "execute_result",
          "data": {
            "text/plain": [
              "array([[[ 0,  1,  2,  3],\n",
              "        [ 4,  5,  6,  7]],\n",
              "\n",
              "       [[ 8,  9, 10, 11],\n",
              "        [12, 13, 14, 15]],\n",
              "\n",
              "       [[16, 17, 18, 19],\n",
              "        [20, 21, 22, 23]]])"
            ]
          },
          "metadata": {
            "tags": []
          },
          "execution_count": 33
        }
      ]
    },
    {
      "cell_type": "code",
      "metadata": {
        "id": "Tx67ka8OoQiM",
        "outputId": "fbf33ea1-36b0-4ca5-d1c2-aad9a82f423b",
        "colab": {
          "base_uri": "https://localhost:8080/"
        }
      },
      "source": [
        "# size i.e. total elements\n",
        "print(\"Size = \",arr.size)\n",
        "\n",
        "# size total elements in each dim (i.e. in rows and cols)\n",
        "print(\"Shape = \",arr.shape)"
      ],
      "execution_count": 34,
      "outputs": [
        {
          "output_type": "stream",
          "text": [
            "Size =  24\n",
            "Shape =  (3, 2, 4)\n"
          ],
          "name": "stdout"
        }
      ]
    },
    {
      "cell_type": "code",
      "metadata": {
        "id": "6kY9Ky5Moh0X",
        "outputId": "591617aa-32d7-47fb-ee92-2d96cac273de",
        "colab": {
          "base_uri": "https://localhost:8080/"
        }
      },
      "source": [
        "print(\"Element in row 2 and col 4 from 2nd last matrix: \",arr[-2, 1, 3])"
      ],
      "execution_count": 35,
      "outputs": [
        {
          "output_type": "stream",
          "text": [
            "Element in row 2 and col 4 from 2nd last matrix:  15\n"
          ],
          "name": "stdout"
        }
      ]
    },
    {
      "cell_type": "code",
      "metadata": {
        "id": "Nud0t19ypYPp",
        "outputId": "5da6e555-f360-4aa2-e480-87f5e42edf54",
        "colab": {
          "base_uri": "https://localhost:8080/"
        }
      },
      "source": [
        "## print middle 2 values of first row every martix\n",
        "arr[:,0,1:3]"
      ],
      "execution_count": 36,
      "outputs": [
        {
          "output_type": "execute_result",
          "data": {
            "text/plain": [
              "array([[ 1,  2],\n",
              "       [ 9, 10],\n",
              "       [17, 18]])"
            ]
          },
          "metadata": {
            "tags": []
          },
          "execution_count": 36
        }
      ]
    },
    {
      "cell_type": "code",
      "metadata": {
        "id": "IomfF_izT2ZO",
        "outputId": "6b8ad4bc-e646-4ef5-dafb-022c34fe20ef",
        "colab": {
          "base_uri": "https://localhost:8080/"
        }
      },
      "source": [
        "np.ndim(arr[:,0,1:3])"
      ],
      "execution_count": 44,
      "outputs": [
        {
          "output_type": "execute_result",
          "data": {
            "text/plain": [
              "2"
            ]
          },
          "metadata": {
            "tags": []
          },
          "execution_count": 44
        }
      ]
    },
    {
      "cell_type": "markdown",
      "metadata": {
        "id": "DUe2unxirAr1"
      },
      "source": [
        "#### Some inbuilt functions\n",
        "1. linspace  \n",
        "2. min  \n",
        "3. max  \n",
        "4. sum"
      ]
    },
    {
      "cell_type": "code",
      "metadata": {
        "id": "_aTc1btAp1T2",
        "outputId": "7f721c5f-85c6-4afb-97c5-86f0a4155b20",
        "colab": {
          "base_uri": "https://localhost:8080/"
        }
      },
      "source": [
        "# to find n number of values between 2 numbers \n",
        "## having equal gap\n",
        "arr = np.linspace(0,10,5)\n",
        "arr"
      ],
      "execution_count": 47,
      "outputs": [
        {
          "output_type": "execute_result",
          "data": {
            "text/plain": [
              "array([ 0. ,  2.5,  5. ,  7.5, 10. ])"
            ]
          },
          "metadata": {
            "tags": []
          },
          "execution_count": 47
        }
      ]
    },
    {
      "cell_type": "code",
      "metadata": {
        "id": "RynaAFZWrdvk",
        "outputId": "4d5fbba9-4bf3-42c5-8fc3-33e233baeba6",
        "colab": {
          "base_uri": "https://localhost:8080/"
        }
      },
      "source": [
        "arr = np.arange(12)\n",
        "arr"
      ],
      "execution_count": 48,
      "outputs": [
        {
          "output_type": "execute_result",
          "data": {
            "text/plain": [
              "array([ 0,  1,  2,  3,  4,  5,  6,  7,  8,  9, 10, 11])"
            ]
          },
          "metadata": {
            "tags": []
          },
          "execution_count": 48
        }
      ]
    },
    {
      "cell_type": "code",
      "metadata": {
        "id": "G2INpIojsW4o",
        "outputId": "efb14d03-eb70-4b58-a143-e3ff10b3bca2",
        "colab": {
          "base_uri": "https://localhost:8080/"
        }
      },
      "source": [
        "## min\n",
        "print(\"Min val = {} \\nMax val = {} \\nSum of elements = {}\".format(arr.min(),\n",
        "                                                                  arr.max(),\n",
        "                                                                  arr.sum()))"
      ],
      "execution_count": 49,
      "outputs": [
        {
          "output_type": "stream",
          "text": [
            "Min val = 0 \n",
            "Max val = 11 \n",
            "Sum of elements = 66\n"
          ],
          "name": "stdout"
        }
      ]
    },
    {
      "cell_type": "markdown",
      "metadata": {
        "id": "tOn17mjLtQC6"
      },
      "source": [
        "#### Axis in NumPy\n",
        "1. Columns = axis 0  \n",
        "2. Rows = axis 1  "
      ]
    },
    {
      "cell_type": "code",
      "metadata": {
        "id": "ktXEqv8-sddo",
        "outputId": "a4ce9631-8182-4672-af1d-ec5e95f9275e",
        "colab": {
          "base_uri": "https://localhost:8080/"
        }
      },
      "source": [
        "arr = np.arange(1,31).reshape(6,5)\n",
        "print(arr)"
      ],
      "execution_count": 50,
      "outputs": [
        {
          "output_type": "stream",
          "text": [
            "[[ 1  2  3  4  5]\n",
            " [ 6  7  8  9 10]\n",
            " [11 12 13 14 15]\n",
            " [16 17 18 19 20]\n",
            " [21 22 23 24 25]\n",
            " [26 27 28 29 30]]\n"
          ],
          "name": "stdout"
        }
      ]
    },
    {
      "cell_type": "code",
      "metadata": {
        "id": "OEeQ0LmWsfbA",
        "outputId": "ca74b4c9-a433-4d63-ee7c-7db458825ed9",
        "colab": {
          "base_uri": "https://localhost:8080/"
        }
      },
      "source": [
        "print(\"Shape: \",arr.shape)\n",
        "\n",
        "## finding row sum\n",
        "rowSum = arr.sum(axis=1)\n",
        "## finding col sum\n",
        "colSum = arr.sum(axis=0)"
      ],
      "execution_count": 52,
      "outputs": [
        {
          "output_type": "stream",
          "text": [
            "Shape:  (6, 5)\n"
          ],
          "name": "stdout"
        }
      ]
    },
    {
      "cell_type": "code",
      "metadata": {
        "id": "h248hQeyuL1w",
        "outputId": "14611b3d-d0b3-4c5c-de73-0a677a44bc3b",
        "colab": {
          "base_uri": "https://localhost:8080/"
        }
      },
      "source": [
        "print(\"Sum of all rows:\",rowSum)\n",
        "print(\"Total elements in sum array: \",len(rowSum))"
      ],
      "execution_count": 53,
      "outputs": [
        {
          "output_type": "stream",
          "text": [
            "Sum of all rows: [ 15  40  65  90 115 140]\n",
            "Total elements in sum array:  6\n"
          ],
          "name": "stdout"
        }
      ]
    },
    {
      "cell_type": "code",
      "metadata": {
        "id": "uExH7HQEusn8",
        "outputId": "ab02e805-0de7-4344-94f9-f495d579e782",
        "colab": {
          "base_uri": "https://localhost:8080/"
        }
      },
      "source": [
        "print(\"Sum of all columns:\",colSum)\n",
        "print(\"Total elements in sum array: \",len(colSum))"
      ],
      "execution_count": 54,
      "outputs": [
        {
          "output_type": "stream",
          "text": [
            "Sum of all columns: [ 81  87  93  99 105]\n",
            "Total elements in sum array:  5\n"
          ],
          "name": "stdout"
        }
      ]
    },
    {
      "cell_type": "code",
      "metadata": {
        "id": "Qf8kLAuAWJcL",
        "outputId": "fa8789a0-7433-494d-85ab-27408bd20837",
        "colab": {
          "base_uri": "https://localhost:8080/"
        }
      },
      "source": [
        "arr.sum()"
      ],
      "execution_count": 55,
      "outputs": [
        {
          "output_type": "execute_result",
          "data": {
            "text/plain": [
              "465"
            ]
          },
          "metadata": {
            "tags": []
          },
          "execution_count": 55
        }
      ]
    },
    {
      "cell_type": "markdown",
      "metadata": {
        "id": "OJRRWi7kvGhO"
      },
      "source": [
        "### Math Operations"
      ]
    },
    {
      "cell_type": "code",
      "metadata": {
        "id": "MU3Eec0zu54O",
        "outputId": "c40e13eb-f204-4073-8602-c7d8364e212c",
        "colab": {
          "base_uri": "https://localhost:8080/"
        }
      },
      "source": [
        "arr = np.arange(5)\n",
        "arr"
      ],
      "execution_count": 56,
      "outputs": [
        {
          "output_type": "execute_result",
          "data": {
            "text/plain": [
              "array([0, 1, 2, 3, 4])"
            ]
          },
          "metadata": {
            "tags": []
          },
          "execution_count": 56
        }
      ]
    },
    {
      "cell_type": "code",
      "metadata": {
        "id": "aM8OzN14vMao",
        "outputId": "f3b187c9-d640-4779-eb5d-7ef83e712bda",
        "colab": {
          "base_uri": "https://localhost:8080/"
        }
      },
      "source": [
        "## addition\n",
        "arr+2"
      ],
      "execution_count": 58,
      "outputs": [
        {
          "output_type": "execute_result",
          "data": {
            "text/plain": [
              "array([2, 3, 4, 5, 6])"
            ]
          },
          "metadata": {
            "tags": []
          },
          "execution_count": 58
        }
      ]
    },
    {
      "cell_type": "code",
      "metadata": {
        "id": "-pKBdLl7vP8w",
        "outputId": "2444359c-5b3f-4a55-8b74-fbe2f66328f4",
        "colab": {
          "base_uri": "https://localhost:8080/"
        }
      },
      "source": [
        "## multiplication\n",
        "arr*3"
      ],
      "execution_count": 59,
      "outputs": [
        {
          "output_type": "execute_result",
          "data": {
            "text/plain": [
              "array([ 0,  3,  6,  9, 12])"
            ]
          },
          "metadata": {
            "tags": []
          },
          "execution_count": 59
        }
      ]
    },
    {
      "cell_type": "code",
      "metadata": {
        "id": "betGnjrIvixv",
        "outputId": "b039a80a-3af1-4d82-ebd3-36b172e28b45",
        "colab": {
          "base_uri": "https://localhost:8080/"
        }
      },
      "source": [
        "## squareroot \n",
        "np.sqrt(arr)"
      ],
      "execution_count": 61,
      "outputs": [
        {
          "output_type": "execute_result",
          "data": {
            "text/plain": [
              "array([0.        , 1.        , 1.41421356, 1.73205081, 2.        ])"
            ]
          },
          "metadata": {
            "tags": []
          },
          "execution_count": 61
        }
      ]
    },
    {
      "cell_type": "markdown",
      "metadata": {
        "id": "eRFshL2cwOtd"
      },
      "source": [
        "**element-wise operation between 2 np.arrays**"
      ]
    },
    {
      "cell_type": "code",
      "metadata": {
        "id": "pGNRQpsUwmVk",
        "outputId": "e638ef46-a5cf-4320-83a3-02108a8e4867",
        "colab": {
          "base_uri": "https://localhost:8080/"
        }
      },
      "source": [
        "arr1 = np.arange(1,5).reshape(2,2)\n",
        "arr2 = np.arange(5,9).reshape(2,2)\n",
        "\n",
        "print(\"arr1: \\n{} \\n\\narr2: \\n{}\".format(arr1,arr2))"
      ],
      "execution_count": 62,
      "outputs": [
        {
          "output_type": "stream",
          "text": [
            "arr1: \n",
            "[[1 2]\n",
            " [3 4]] \n",
            "\n",
            "arr2: \n",
            "[[5 6]\n",
            " [7 8]]\n"
          ],
          "name": "stdout"
        }
      ]
    },
    {
      "cell_type": "code",
      "metadata": {
        "colab": {
          "base_uri": "https://localhost:8080/"
        },
        "id": "LPbz5nJzy5Nd",
        "outputId": "1431513a-4138-4eeb-ea1b-850d317bc4ac"
      },
      "source": [
        "## Add\n",
        "arr1 + arr2"
      ],
      "execution_count": 63,
      "outputs": [
        {
          "output_type": "execute_result",
          "data": {
            "text/plain": [
              "array([[ 6,  8],\n",
              "       [10, 12]])"
            ]
          },
          "metadata": {
            "tags": []
          },
          "execution_count": 63
        }
      ]
    },
    {
      "cell_type": "code",
      "metadata": {
        "id": "5O5WRQ2dy7_e",
        "outputId": "3516ac44-8769-48cc-b9c7-d2e7a5e00140",
        "colab": {
          "base_uri": "https://localhost:8080/"
        }
      },
      "source": [
        "## sub\n",
        "arr1 - arr2"
      ],
      "execution_count": 64,
      "outputs": [
        {
          "output_type": "execute_result",
          "data": {
            "text/plain": [
              "array([[-4, -4],\n",
              "       [-4, -4]])"
            ]
          },
          "metadata": {
            "tags": []
          },
          "execution_count": 64
        }
      ]
    },
    {
      "cell_type": "code",
      "metadata": {
        "id": "P-q8jz9bzBE6",
        "outputId": "ad46054d-46d2-41ff-ebdd-7d635e404270",
        "colab": {
          "base_uri": "https://localhost:8080/"
        }
      },
      "source": [
        "## div\n",
        "arr2 // arr1"
      ],
      "execution_count": 65,
      "outputs": [
        {
          "output_type": "execute_result",
          "data": {
            "text/plain": [
              "array([[5, 3],\n",
              "       [2, 2]])"
            ]
          },
          "metadata": {
            "tags": []
          },
          "execution_count": 65
        }
      ]
    },
    {
      "cell_type": "markdown",
      "metadata": {
        "id": "LK3VzhXrvbom"
      },
      "source": [
        "### Statistical Fun"
      ]
    },
    {
      "cell_type": "code",
      "metadata": {
        "id": "VfMGEVYlvVQc",
        "outputId": "a9b24cd6-ac50-4684-e88f-aa9d7f3546a0",
        "colab": {
          "base_uri": "https://localhost:8080/"
        }
      },
      "source": [
        "print(\"Array: \",arr)"
      ],
      "execution_count": 66,
      "outputs": [
        {
          "output_type": "stream",
          "text": [
            "Array:  [0 1 2 3 4]\n"
          ],
          "name": "stdout"
        }
      ]
    },
    {
      "cell_type": "code",
      "metadata": {
        "id": "S5NsRGFFvwmu",
        "outputId": "aec230c9-4ee1-41bf-82bc-8753854deee4",
        "colab": {
          "base_uri": "https://localhost:8080/"
        }
      },
      "source": [
        "# mean\n",
        "arr.mean()"
      ],
      "execution_count": 68,
      "outputs": [
        {
          "output_type": "execute_result",
          "data": {
            "text/plain": [
              "2.0"
            ]
          },
          "metadata": {
            "tags": []
          },
          "execution_count": 68
        }
      ]
    },
    {
      "cell_type": "code",
      "metadata": {
        "id": "2h79VvsXv4qB",
        "outputId": "c4bd1d1f-e1e4-49f8-9d69-40aa0b26d0f3",
        "colab": {
          "base_uri": "https://localhost:8080/"
        }
      },
      "source": [
        "# variance\n",
        "arr.var()"
      ],
      "execution_count": 69,
      "outputs": [
        {
          "output_type": "execute_result",
          "data": {
            "text/plain": [
              "2.0"
            ]
          },
          "metadata": {
            "tags": []
          },
          "execution_count": 69
        }
      ]
    },
    {
      "cell_type": "code",
      "metadata": {
        "id": "F5-He6W1v_Ko",
        "outputId": "5e248fd0-8d28-48c6-e34b-c8322605dc79",
        "colab": {
          "base_uri": "https://localhost:8080/"
        }
      },
      "source": [
        "# standard deviation\n",
        "arr.std()"
      ],
      "execution_count": 70,
      "outputs": [
        {
          "output_type": "execute_result",
          "data": {
            "text/plain": [
              "1.4142135623730951"
            ]
          },
          "metadata": {
            "tags": []
          },
          "execution_count": 70
        }
      ]
    },
    {
      "cell_type": "markdown",
      "metadata": {
        "id": "_Qpj7KswOwxl"
      },
      "source": [
        "---  \n",
        "---  \n",
        "\n",
        "## Access this NoteBook:\n",
        "![numpyBasics.png](data:image/png;base64,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)  \n",
        "\n",
        "Link:  [https://bit.ly/3dcgm4q](https://bit.ly/3dcgm4q)"
      ]
    }
  ]
}