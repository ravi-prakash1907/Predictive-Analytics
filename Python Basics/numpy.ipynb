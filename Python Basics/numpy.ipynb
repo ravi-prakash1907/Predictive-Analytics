{
  "nbformat": 4,
  "nbformat_minor": 0,
  "metadata": {
    "colab": {
      "name": "numpy.ipynb",
      "provenance": [],
      "authorship_tag": "ABX9TyNq/zOGWoe0mtFqfepkr0s6",
      "include_colab_link": true
    },
    "kernelspec": {
      "name": "python3",
      "display_name": "Python 3"
    },
    "language_info": {
      "name": "python"
    }
  },
  "cells": [
    {
      "cell_type": "markdown",
      "metadata": {
        "id": "view-in-github",
        "colab_type": "text"
      },
      "source": [
        "<a href=\"https://colab.research.google.com/github/ravi-prakash1907/Predictive-Analytics/blob/tuts/Python%20Basics/numpy.ipynb\" target=\"_parent\"><img src=\"https://colab.research.google.com/assets/colab-badge.svg\" alt=\"Open In Colab\"/></a>"
      ]
    },
    {
      "cell_type": "markdown",
      "metadata": {
        "id": "nReEieLsgi-t"
      },
      "source": [
        "# Basics of NumPy\n",
        "1. Intro  \n",
        "2. NumPy vs List  \n",
        "3. Operations on NumPy Array  \n",
        "4. Mathematical & Statistical  Funstions"
      ]
    },
    {
      "cell_type": "code",
      "metadata": {
        "id": "nF3-gAQjgn53"
      },
      "source": [
        "## loading library\n",
        "import numpy as np"
      ],
      "execution_count": 1,
      "outputs": []
    },
    {
      "cell_type": "markdown",
      "metadata": {
        "id": "VgZSgdxt0KPG"
      },
      "source": [
        "### Intro\n",
        "_Creating a numpy array_"
      ]
    },
    {
      "cell_type": "code",
      "metadata": {
        "id": "LcPU-uWIggta",
        "colab": {
          "base_uri": "https://localhost:8080/"
        },
        "outputId": "ebee5bf0-8106-4c36-a7cb-04a9aff99016"
      },
      "source": [
        "## creating array\n",
        "a = np.array([1,2,3])\n",
        "print(a)\n",
        "type(a)"
      ],
      "execution_count": 2,
      "outputs": [
        {
          "output_type": "stream",
          "text": [
            "[1 2 3]\n"
          ],
          "name": "stdout"
        },
        {
          "output_type": "execute_result",
          "data": {
            "text/plain": [
              "numpy.ndarray"
            ]
          },
          "metadata": {
            "tags": []
          },
          "execution_count": 2
        }
      ]
    },
    {
      "cell_type": "code",
      "metadata": {
        "id": "qm02Uaweg8zd",
        "colab": {
          "base_uri": "https://localhost:8080/"
        },
        "outputId": "abecedbc-7af9-4a0c-eefe-b7882e6a4ca0"
      },
      "source": [
        "a = np.array([(1,2,3),(4,5,6)])\n",
        "print(a)"
      ],
      "execution_count": 3,
      "outputs": [
        {
          "output_type": "stream",
          "text": [
            "[[1 2 3]\n",
            " [4 5 6]]\n"
          ],
          "name": "stdout"
        }
      ]
    },
    {
      "cell_type": "markdown",
      "metadata": {
        "id": "F3E3Zb2yhEKa"
      },
      "source": [
        "### NumPy vs List\n",
        "NumPy is prefered over the Lists, because:  \n",
        "1. Occupies less memory  \n",
        "2. Fast  \n",
        "3. Convenient to work with NumPy arr"
      ]
    },
    {
      "cell_type": "markdown",
      "metadata": {
        "id": "M17cuOojheWP"
      },
      "source": [
        "**validating...**"
      ]
    },
    {
      "cell_type": "code",
      "metadata": {
        "id": "_QHaKOBIhDVz"
      },
      "source": [
        "## loading lib\n",
        "import time\n",
        "import sys"
      ],
      "execution_count": 4,
      "outputs": []
    },
    {
      "cell_type": "markdown",
      "metadata": {
        "id": "loFUhHJpjP6r"
      },
      "source": [
        "##### **Memory comparision**"
      ]
    },
    {
      "cell_type": "code",
      "metadata": {
        "id": "ESIfYGPPhnVt",
        "colab": {
          "base_uri": "https://localhost:8080/"
        },
        "outputId": "c2e7fbbb-2e64-4e44-efea-d8fbc0f9a8c7"
      },
      "source": [
        "L1 = range(1000)  # 0-999\n",
        "print(\"Size of list = \",len(L1))\n",
        "print(\"Size of any single element in array = \",sys.getsizeof(L1[0]))\n",
        "print(\"Space occupied our list is {}\".format(sys.getsizeof(L1[0])*len(L1)))"
      ],
      "execution_count": 5,
      "outputs": [
        {
          "output_type": "stream",
          "text": [
            "Size of list =  1000\n",
            "Size of any single element in array =  24\n",
            "Space occupied our list is 24000\n"
          ],
          "name": "stdout"
        }
      ]
    },
    {
      "cell_type": "code",
      "metadata": {
        "id": "R3bOLsTjiCNY",
        "colab": {
          "base_uri": "https://localhost:8080/"
        },
        "outputId": "85d98935-d88c-433a-916b-d32fb4ce0581"
      },
      "source": [
        "Arr1 = np.arange(1000)\n",
        "print(\"Size of array = \",Arr1.size)\n",
        "print(\"Size of any single element in array = \",Arr1.itemsize)\n",
        "print(\"Space occupied by our np.array is {}\".format(Arr1.size*Arr1.itemsize))"
      ],
      "execution_count": 6,
      "outputs": [
        {
          "output_type": "stream",
          "text": [
            "Size of array =  1000\n",
            "Size of any single element in array =  8\n",
            "Space occupied by our np.array is 8000\n"
          ],
          "name": "stdout"
        }
      ]
    },
    {
      "cell_type": "markdown",
      "metadata": {
        "id": "EVF5eUl_jL0M"
      },
      "source": [
        "---\n",
        "\n",
        "##### **Speed comparision**"
      ]
    },
    {
      "cell_type": "code",
      "metadata": {
        "id": "zPIj4ZajiTo7"
      },
      "source": [
        "Size = 100000\n",
        "\n",
        "## adding 2 lists/arrays\n",
        "L1 = range(Size)\n",
        "L2 = range(Size)\n",
        "\n",
        "A1 = np.arange(Size)\n",
        "A2 = np.arange(Size)"
      ],
      "execution_count": 7,
      "outputs": []
    },
    {
      "cell_type": "code",
      "metadata": {
        "id": "6d_2k_eujrul",
        "colab": {
          "base_uri": "https://localhost:8080/"
        },
        "outputId": "f740a775-9436-4ebc-d4b2-9a4da4f68b8b"
      },
      "source": [
        "start = time.time()\n",
        "result = [(x,y) for x,y in zip(L1,L2)]\n",
        "print(\"Time taken to add lists is {} sec.\".format((time.time()-start)))"
      ],
      "execution_count": 8,
      "outputs": [
        {
          "output_type": "stream",
          "text": [
            "Time taken to add lists is 0.08313989639282227 sec.\n"
          ],
          "name": "stdout"
        }
      ]
    },
    {
      "cell_type": "code",
      "metadata": {
        "id": "VaHsVAVdkSMn",
        "colab": {
          "base_uri": "https://localhost:8080/"
        },
        "outputId": "2dc35125-9cb3-42a0-d816-9f6f1396f6f0"
      },
      "source": [
        "start = time.time()\n",
        "## convenient too\n",
        "result = A1+A2\n",
        "print(\"Time taken to add arrays is {} sec.\".format((time.time()-start)))"
      ],
      "execution_count": 9,
      "outputs": [
        {
          "output_type": "stream",
          "text": [
            "Time taken to add arrays is 0.006544589996337891 sec.\n"
          ],
          "name": "stdout"
        }
      ]
    },
    {
      "cell_type": "markdown",
      "metadata": {
        "id": "PhxlQ6LQk3cm"
      },
      "source": [
        "### Operations on NumPy Array"
      ]
    },
    {
      "cell_type": "markdown",
      "metadata": {
        "id": "IdLkV-qjmgy2"
      },
      "source": [
        "#### Basics\n",
        "1. finding dimention  \n",
        "2. getting bytesize  \n",
        "3. finding  data-types"
      ]
    },
    {
      "cell_type": "code",
      "metadata": {
        "id": "gHSWlNtFkfGl",
        "colab": {
          "base_uri": "https://localhost:8080/"
        },
        "outputId": "4593c697-00fb-42e7-8670-115def52c1c9"
      },
      "source": [
        "arr = np.array([[1,2,3],[2,3,4]], dtype='uint64')\n",
        "arr"
      ],
      "execution_count": 10,
      "outputs": [
        {
          "output_type": "execute_result",
          "data": {
            "text/plain": [
              "array([[1, 2, 3],\n",
              "       [2, 3, 4]], dtype=uint64)"
            ]
          },
          "metadata": {
            "tags": []
          },
          "execution_count": 10
        }
      ]
    },
    {
      "cell_type": "code",
      "metadata": {
        "id": "VDr233I8lfUv",
        "colab": {
          "base_uri": "https://localhost:8080/"
        },
        "outputId": "07fd9ba1-d621-4c7e-dac3-8d1a26ed4515"
      },
      "source": [
        "## Dimention\n",
        "print(\"Dimention is: \",arr.ndim)\n",
        "## finding byte size\n",
        "print(\"Space occupied by each element (in bytes): \",arr.itemsize)"
      ],
      "execution_count": 11,
      "outputs": [
        {
          "output_type": "stream",
          "text": [
            "Dimention is:  2\n",
            "Space occupied by each element (in bytes):  8\n"
          ],
          "name": "stdout"
        }
      ]
    },
    {
      "cell_type": "code",
      "metadata": {
        "id": "NvbYXumfRtE9",
        "colab": {
          "base_uri": "https://localhost:8080/"
        },
        "outputId": "e960543a-ba6a-482f-b8cf-d61e27ced062"
      },
      "source": [
        "c = list(range(2,10,2))\n",
        "c"
      ],
      "execution_count": 12,
      "outputs": [
        {
          "output_type": "execute_result",
          "data": {
            "text/plain": [
              "[2, 4, 6, 8]"
            ]
          },
          "metadata": {
            "tags": []
          },
          "execution_count": 12
        }
      ]
    },
    {
      "cell_type": "code",
      "metadata": {
        "id": "upLSGe56lqPp",
        "colab": {
          "base_uri": "https://localhost:8080/"
        },
        "outputId": "ddf85d5f-7670-4c87-f1f3-59edd07f43c4"
      },
      "source": [
        "arr = np.arange(4)\n",
        "\n",
        "## Dimention\n",
        "print(\"Dimention of {} is: {}\".format(arr,arr.ndim))"
      ],
      "execution_count": 13,
      "outputs": [
        {
          "output_type": "stream",
          "text": [
            "Dimention of [0 1 2 3] is: 1\n"
          ],
          "name": "stdout"
        }
      ]
    },
    {
      "cell_type": "code",
      "metadata": {
        "id": "ua2dJlnumFXN",
        "colab": {
          "base_uri": "https://localhost:8080/"
        },
        "outputId": "c84c1fe4-0185-450e-861e-3b9701162eb3"
      },
      "source": [
        "## datatype\n",
        "arr.dtype"
      ],
      "execution_count": 14,
      "outputs": [
        {
          "output_type": "execute_result",
          "data": {
            "text/plain": [
              "dtype('int64')"
            ]
          },
          "metadata": {
            "tags": []
          },
          "execution_count": 14
        }
      ]
    },
    {
      "cell_type": "markdown",
      "metadata": {
        "id": "-DavB3Y5mjsA"
      },
      "source": [
        "#### Additional operations\n",
        "1. Size and Shape  \n",
        "2. Reshaping  \n",
        "3. Slicing"
      ]
    },
    {
      "cell_type": "code",
      "metadata": {
        "id": "Kgr11JNjm2PA",
        "colab": {
          "base_uri": "https://localhost:8080/"
        },
        "outputId": "e271a0b8-8ba9-4f27-f376-0ec1c43743b7"
      },
      "source": [
        "arr = np.arange(24)\n",
        "arr"
      ],
      "execution_count": 15,
      "outputs": [
        {
          "output_type": "execute_result",
          "data": {
            "text/plain": [
              "array([ 0,  1,  2,  3,  4,  5,  6,  7,  8,  9, 10, 11, 12, 13, 14, 15, 16,\n",
              "       17, 18, 19, 20, 21, 22, 23])"
            ]
          },
          "metadata": {
            "tags": []
          },
          "execution_count": 15
        }
      ]
    },
    {
      "cell_type": "code",
      "metadata": {
        "id": "UdP8qvmBma4_",
        "colab": {
          "base_uri": "https://localhost:8080/"
        },
        "outputId": "26814f07-68d7-4d7c-989c-de94fd8af543"
      },
      "source": [
        "# size i.e. total elements\n",
        "print(\"Size = \",arr.size)\n",
        "\n",
        "# size total elements in each dim (i.e. in rows and cols)\n",
        "print(\"Shape = \",arr.shape)"
      ],
      "execution_count": 16,
      "outputs": [
        {
          "output_type": "stream",
          "text": [
            "Size =  24\n",
            "Shape =  (24,)\n"
          ],
          "name": "stdout"
        }
      ]
    },
    {
      "cell_type": "code",
      "metadata": {
        "id": "bnaUrs1wonDK",
        "colab": {
          "base_uri": "https://localhost:8080/"
        },
        "outputId": "7f0a98f0-faf2-4c96-e516-9b5b3f78b710"
      },
      "source": [
        "print(\"Element at index 5: \",arr[4])"
      ],
      "execution_count": 17,
      "outputs": [
        {
          "output_type": "stream",
          "text": [
            "Element at index 5:  4\n"
          ],
          "name": "stdout"
        }
      ]
    },
    {
      "cell_type": "code",
      "metadata": {
        "id": "-X31HszTnLVt",
        "colab": {
          "base_uri": "https://localhost:8080/"
        },
        "outputId": "33e71561-f18d-4f9a-b549-7616a44f1300"
      },
      "source": [
        "arr = arr.reshape(8,3)\n",
        "arr"
      ],
      "execution_count": 18,
      "outputs": [
        {
          "output_type": "execute_result",
          "data": {
            "text/plain": [
              "array([[ 0,  1,  2],\n",
              "       [ 3,  4,  5],\n",
              "       [ 6,  7,  8],\n",
              "       [ 9, 10, 11],\n",
              "       [12, 13, 14],\n",
              "       [15, 16, 17],\n",
              "       [18, 19, 20],\n",
              "       [21, 22, 23]])"
            ]
          },
          "metadata": {
            "tags": []
          },
          "execution_count": 18
        }
      ]
    },
    {
      "cell_type": "code",
      "metadata": {
        "id": "nFd8ORW0nvWk",
        "colab": {
          "base_uri": "https://localhost:8080/"
        },
        "outputId": "aba4b1c3-23c8-4529-f9ab-dd5d87926966"
      },
      "source": [
        "# size i.e. total elements\n",
        "print(\"Size = \",arr.size)\n",
        "\n",
        "# size total elements in each dim (i.e. in rows and cols)\n",
        "print(\"Shape = \",arr.shape)"
      ],
      "execution_count": 19,
      "outputs": [
        {
          "output_type": "stream",
          "text": [
            "Size =  24\n",
            "Shape =  (8, 3)\n"
          ],
          "name": "stdout"
        }
      ]
    },
    {
      "cell_type": "code",
      "metadata": {
        "id": "lv9WSgbKo2zi",
        "colab": {
          "base_uri": "https://localhost:8080/"
        },
        "outputId": "1413cc9e-ef5d-4c41-fb1e-cd3742d895a2"
      },
      "source": [
        "print(\"Element in row 3 and col 2: \",arr[2,1])"
      ],
      "execution_count": 20,
      "outputs": [
        {
          "output_type": "stream",
          "text": [
            "Element in row 3 and col 2:  7\n"
          ],
          "name": "stdout"
        }
      ]
    },
    {
      "cell_type": "code",
      "metadata": {
        "id": "enMnPpgAoWbH",
        "colab": {
          "base_uri": "https://localhost:8080/"
        },
        "outputId": "f689517f-3f37-4d3f-be50-34644aaf6b44"
      },
      "source": [
        "arr = arr.reshape(3,2,4)\n",
        "arr"
      ],
      "execution_count": 21,
      "outputs": [
        {
          "output_type": "execute_result",
          "data": {
            "text/plain": [
              "array([[[ 0,  1,  2,  3],\n",
              "        [ 4,  5,  6,  7]],\n",
              "\n",
              "       [[ 8,  9, 10, 11],\n",
              "        [12, 13, 14, 15]],\n",
              "\n",
              "       [[16, 17, 18, 19],\n",
              "        [20, 21, 22, 23]]])"
            ]
          },
          "metadata": {
            "tags": []
          },
          "execution_count": 21
        }
      ]
    },
    {
      "cell_type": "code",
      "metadata": {
        "id": "Tx67ka8OoQiM",
        "colab": {
          "base_uri": "https://localhost:8080/"
        },
        "outputId": "06dd2af5-be3e-4eb8-d98f-55b577df763f"
      },
      "source": [
        "# size i.e. total elements\n",
        "print(\"Size = \",arr.size)\n",
        "\n",
        "# size total elements in each dim (i.e. in rows and cols)\n",
        "print(\"Shape = \",arr.shape)"
      ],
      "execution_count": 22,
      "outputs": [
        {
          "output_type": "stream",
          "text": [
            "Size =  24\n",
            "Shape =  (3, 2, 4)\n"
          ],
          "name": "stdout"
        }
      ]
    },
    {
      "cell_type": "code",
      "metadata": {
        "id": "6kY9Ky5Moh0X",
        "colab": {
          "base_uri": "https://localhost:8080/"
        },
        "outputId": "355df7a2-17f7-4e67-e8bc-be9fc5730b75"
      },
      "source": [
        "print(\"Element in row 2 and col 4 from 2nd last matrix: \",arr[-2, 1, 3])"
      ],
      "execution_count": 23,
      "outputs": [
        {
          "output_type": "stream",
          "text": [
            "Element in row 2 and col 4 from 2nd last matrix:  15\n"
          ],
          "name": "stdout"
        }
      ]
    },
    {
      "cell_type": "code",
      "metadata": {
        "id": "Nud0t19ypYPp",
        "colab": {
          "base_uri": "https://localhost:8080/"
        },
        "outputId": "a3f9caa3-9de0-4aae-c86d-54d036e6d248"
      },
      "source": [
        "## print middle 2 values of first row every martix\n",
        "arr[:,0,1:3]"
      ],
      "execution_count": 24,
      "outputs": [
        {
          "output_type": "execute_result",
          "data": {
            "text/plain": [
              "array([[ 1,  2],\n",
              "       [ 9, 10],\n",
              "       [17, 18]])"
            ]
          },
          "metadata": {
            "tags": []
          },
          "execution_count": 24
        }
      ]
    },
    {
      "cell_type": "code",
      "metadata": {
        "id": "IomfF_izT2ZO",
        "colab": {
          "base_uri": "https://localhost:8080/"
        },
        "outputId": "9bc3155b-0309-4057-9317-7f0f4a749de9"
      },
      "source": [
        "np.ndim(arr[:,0,1:3])"
      ],
      "execution_count": 25,
      "outputs": [
        {
          "output_type": "execute_result",
          "data": {
            "text/plain": [
              "2"
            ]
          },
          "metadata": {
            "tags": []
          },
          "execution_count": 25
        }
      ]
    },
    {
      "cell_type": "markdown",
      "metadata": {
        "id": "DUe2unxirAr1"
      },
      "source": [
        "#### Some inbuilt functions\n",
        "1. linspace  \n",
        "2. min  \n",
        "3. max  \n",
        "4. sum"
      ]
    },
    {
      "cell_type": "code",
      "metadata": {
        "id": "_aTc1btAp1T2",
        "colab": {
          "base_uri": "https://localhost:8080/"
        },
        "outputId": "18130955-7b3c-4f0f-d346-3dbd13f0277f"
      },
      "source": [
        "# to find n number of values between 2 numbers \n",
        "## having equal gap\n",
        "arr = np.linspace(0,10,5)\n",
        "arr"
      ],
      "execution_count": 26,
      "outputs": [
        {
          "output_type": "execute_result",
          "data": {
            "text/plain": [
              "array([ 0. ,  2.5,  5. ,  7.5, 10. ])"
            ]
          },
          "metadata": {
            "tags": []
          },
          "execution_count": 26
        }
      ]
    },
    {
      "cell_type": "code",
      "metadata": {
        "id": "RynaAFZWrdvk",
        "colab": {
          "base_uri": "https://localhost:8080/"
        },
        "outputId": "445b50d8-22ec-4ddc-e87e-ea8e87e8af58"
      },
      "source": [
        "arr = np.arange(12)\n",
        "arr"
      ],
      "execution_count": 27,
      "outputs": [
        {
          "output_type": "execute_result",
          "data": {
            "text/plain": [
              "array([ 0,  1,  2,  3,  4,  5,  6,  7,  8,  9, 10, 11])"
            ]
          },
          "metadata": {
            "tags": []
          },
          "execution_count": 27
        }
      ]
    },
    {
      "cell_type": "code",
      "metadata": {
        "id": "G2INpIojsW4o",
        "colab": {
          "base_uri": "https://localhost:8080/"
        },
        "outputId": "3091ca40-5ff4-460a-e4c5-d33bf38710b5"
      },
      "source": [
        "## min\n",
        "print(\"Min val = {} \\nMax val = {} \\nSum of elements = {}\".format(arr.min(),\n",
        "                                                                  arr.max(),\n",
        "                                                                  arr.sum()))"
      ],
      "execution_count": 28,
      "outputs": [
        {
          "output_type": "stream",
          "text": [
            "Min val = 0 \n",
            "Max val = 11 \n",
            "Sum of elements = 66\n"
          ],
          "name": "stdout"
        }
      ]
    },
    {
      "cell_type": "markdown",
      "metadata": {
        "id": "tOn17mjLtQC6"
      },
      "source": [
        "#### Axis in NumPy\n",
        "1. Columns = axis 0  \n",
        "2. Rows = axis 1  "
      ]
    },
    {
      "cell_type": "code",
      "metadata": {
        "id": "ktXEqv8-sddo",
        "colab": {
          "base_uri": "https://localhost:8080/"
        },
        "outputId": "a02274c2-151f-4bbe-99db-f348275746ef"
      },
      "source": [
        "arr = np.arange(1,31).reshape(6,5)\n",
        "print(arr)"
      ],
      "execution_count": 29,
      "outputs": [
        {
          "output_type": "stream",
          "text": [
            "[[ 1  2  3  4  5]\n",
            " [ 6  7  8  9 10]\n",
            " [11 12 13 14 15]\n",
            " [16 17 18 19 20]\n",
            " [21 22 23 24 25]\n",
            " [26 27 28 29 30]]\n"
          ],
          "name": "stdout"
        }
      ]
    },
    {
      "cell_type": "code",
      "metadata": {
        "id": "OEeQ0LmWsfbA",
        "colab": {
          "base_uri": "https://localhost:8080/"
        },
        "outputId": "0db2f7cc-a50b-43ad-f213-2ba242b553c8"
      },
      "source": [
        "print(\"Shape: \",arr.shape)\n",
        "\n",
        "## finding row sum\n",
        "rowSum = arr.sum(axis=1)\n",
        "## finding col sum\n",
        "colSum = arr.sum(axis=0)"
      ],
      "execution_count": 30,
      "outputs": [
        {
          "output_type": "stream",
          "text": [
            "Shape:  (6, 5)\n"
          ],
          "name": "stdout"
        }
      ]
    },
    {
      "cell_type": "code",
      "metadata": {
        "id": "h248hQeyuL1w",
        "colab": {
          "base_uri": "https://localhost:8080/"
        },
        "outputId": "62e0c234-3407-4c9c-a2fc-6044143d2123"
      },
      "source": [
        "print(\"Sum of all rows:\",rowSum)\n",
        "print(\"Total elements in sum array: \",len(rowSum))"
      ],
      "execution_count": 31,
      "outputs": [
        {
          "output_type": "stream",
          "text": [
            "Sum of all rows: [ 15  40  65  90 115 140]\n",
            "Total elements in sum array:  6\n"
          ],
          "name": "stdout"
        }
      ]
    },
    {
      "cell_type": "code",
      "metadata": {
        "id": "uExH7HQEusn8",
        "colab": {
          "base_uri": "https://localhost:8080/"
        },
        "outputId": "d1d851c2-e6d7-4748-c955-c444a629ce6b"
      },
      "source": [
        "print(\"Sum of all columns:\",colSum)\n",
        "print(\"Total elements in sum array: \",len(colSum))"
      ],
      "execution_count": 32,
      "outputs": [
        {
          "output_type": "stream",
          "text": [
            "Sum of all columns: [ 81  87  93  99 105]\n",
            "Total elements in sum array:  5\n"
          ],
          "name": "stdout"
        }
      ]
    },
    {
      "cell_type": "code",
      "metadata": {
        "id": "Qf8kLAuAWJcL",
        "colab": {
          "base_uri": "https://localhost:8080/"
        },
        "outputId": "cd0b25ef-1cac-4c92-cf63-99f165a51fcd"
      },
      "source": [
        "arr.sum()"
      ],
      "execution_count": 33,
      "outputs": [
        {
          "output_type": "execute_result",
          "data": {
            "text/plain": [
              "465"
            ]
          },
          "metadata": {
            "tags": []
          },
          "execution_count": 33
        }
      ]
    },
    {
      "cell_type": "markdown",
      "metadata": {
        "id": "OJRRWi7kvGhO"
      },
      "source": [
        "### Math Operations"
      ]
    },
    {
      "cell_type": "code",
      "metadata": {
        "id": "MU3Eec0zu54O",
        "colab": {
          "base_uri": "https://localhost:8080/"
        },
        "outputId": "9ee08db9-7982-4478-af44-556ff9be7e8e"
      },
      "source": [
        "arr = np.arange(5)\n",
        "arr"
      ],
      "execution_count": 34,
      "outputs": [
        {
          "output_type": "execute_result",
          "data": {
            "text/plain": [
              "array([0, 1, 2, 3, 4])"
            ]
          },
          "metadata": {
            "tags": []
          },
          "execution_count": 34
        }
      ]
    },
    {
      "cell_type": "code",
      "metadata": {
        "id": "aM8OzN14vMao",
        "colab": {
          "base_uri": "https://localhost:8080/"
        },
        "outputId": "4e2c1bc8-36ca-46fe-9bab-0c37a843c370"
      },
      "source": [
        "## addition\n",
        "arr+2"
      ],
      "execution_count": 35,
      "outputs": [
        {
          "output_type": "execute_result",
          "data": {
            "text/plain": [
              "array([2, 3, 4, 5, 6])"
            ]
          },
          "metadata": {
            "tags": []
          },
          "execution_count": 35
        }
      ]
    },
    {
      "cell_type": "code",
      "metadata": {
        "id": "-pKBdLl7vP8w",
        "colab": {
          "base_uri": "https://localhost:8080/"
        },
        "outputId": "d0df0189-0a2e-4def-f81b-c1f9edc4a59d"
      },
      "source": [
        "## multiplication\n",
        "arr*3"
      ],
      "execution_count": 36,
      "outputs": [
        {
          "output_type": "execute_result",
          "data": {
            "text/plain": [
              "array([ 0,  3,  6,  9, 12])"
            ]
          },
          "metadata": {
            "tags": []
          },
          "execution_count": 36
        }
      ]
    },
    {
      "cell_type": "code",
      "metadata": {
        "id": "betGnjrIvixv",
        "colab": {
          "base_uri": "https://localhost:8080/"
        },
        "outputId": "a8106b8d-6df2-4a31-e904-43e9f1835403"
      },
      "source": [
        "## squareroot \n",
        "np.sqrt(arr)"
      ],
      "execution_count": 37,
      "outputs": [
        {
          "output_type": "execute_result",
          "data": {
            "text/plain": [
              "array([0.        , 1.        , 1.41421356, 1.73205081, 2.        ])"
            ]
          },
          "metadata": {
            "tags": []
          },
          "execution_count": 37
        }
      ]
    },
    {
      "cell_type": "markdown",
      "metadata": {
        "id": "eRFshL2cwOtd"
      },
      "source": [
        "**element-wise operation between 2 np.arrays**"
      ]
    },
    {
      "cell_type": "code",
      "metadata": {
        "id": "pGNRQpsUwmVk",
        "colab": {
          "base_uri": "https://localhost:8080/"
        },
        "outputId": "a5eba371-1161-459c-bd0a-4291faf01f9d"
      },
      "source": [
        "arr1 = np.arange(1,5).reshape(2,2)\n",
        "arr2 = np.arange(5,9).reshape(2,2)\n",
        "\n",
        "print(\"arr1: \\n{} \\n\\narr2: \\n{}\".format(arr1,arr2))"
      ],
      "execution_count": 38,
      "outputs": [
        {
          "output_type": "stream",
          "text": [
            "arr1: \n",
            "[[1 2]\n",
            " [3 4]] \n",
            "\n",
            "arr2: \n",
            "[[5 6]\n",
            " [7 8]]\n"
          ],
          "name": "stdout"
        }
      ]
    },
    {
      "cell_type": "code",
      "metadata": {
        "colab": {
          "base_uri": "https://localhost:8080/"
        },
        "id": "LPbz5nJzy5Nd",
        "outputId": "46697620-a5ac-4b42-bed9-a7a6579e0a29"
      },
      "source": [
        "## Add\n",
        "arr1 + arr2"
      ],
      "execution_count": 39,
      "outputs": [
        {
          "output_type": "execute_result",
          "data": {
            "text/plain": [
              "array([[ 6,  8],\n",
              "       [10, 12]])"
            ]
          },
          "metadata": {
            "tags": []
          },
          "execution_count": 39
        }
      ]
    },
    {
      "cell_type": "code",
      "metadata": {
        "id": "5O5WRQ2dy7_e",
        "colab": {
          "base_uri": "https://localhost:8080/"
        },
        "outputId": "6f1c23fb-42e0-4e7f-cd0c-4cd3b07bd7de"
      },
      "source": [
        "## sub\n",
        "arr1 - arr2"
      ],
      "execution_count": 40,
      "outputs": [
        {
          "output_type": "execute_result",
          "data": {
            "text/plain": [
              "array([[-4, -4],\n",
              "       [-4, -4]])"
            ]
          },
          "metadata": {
            "tags": []
          },
          "execution_count": 40
        }
      ]
    },
    {
      "cell_type": "code",
      "metadata": {
        "id": "P-q8jz9bzBE6",
        "colab": {
          "base_uri": "https://localhost:8080/"
        },
        "outputId": "e018ea7a-5c76-4251-f123-3f4b9e0b02d8"
      },
      "source": [
        "## div\n",
        "arr2 // arr1"
      ],
      "execution_count": 41,
      "outputs": [
        {
          "output_type": "execute_result",
          "data": {
            "text/plain": [
              "array([[5, 3],\n",
              "       [2, 2]])"
            ]
          },
          "metadata": {
            "tags": []
          },
          "execution_count": 41
        }
      ]
    },
    {
      "cell_type": "markdown",
      "metadata": {
        "id": "LK3VzhXrvbom"
      },
      "source": [
        "### Statistical Fun"
      ]
    },
    {
      "cell_type": "code",
      "metadata": {
        "id": "VfMGEVYlvVQc",
        "colab": {
          "base_uri": "https://localhost:8080/"
        },
        "outputId": "87ca7144-cbe8-4023-de20-85236311691c"
      },
      "source": [
        "print(\"Array: \",arr)"
      ],
      "execution_count": 42,
      "outputs": [
        {
          "output_type": "stream",
          "text": [
            "Array:  [0 1 2 3 4]\n"
          ],
          "name": "stdout"
        }
      ]
    },
    {
      "cell_type": "code",
      "metadata": {
        "id": "S5NsRGFFvwmu",
        "colab": {
          "base_uri": "https://localhost:8080/"
        },
        "outputId": "b072272a-d0da-485c-b73c-e8e8e822e984"
      },
      "source": [
        "# mean\n",
        "arr.mean()"
      ],
      "execution_count": 43,
      "outputs": [
        {
          "output_type": "execute_result",
          "data": {
            "text/plain": [
              "2.0"
            ]
          },
          "metadata": {
            "tags": []
          },
          "execution_count": 43
        }
      ]
    },
    {
      "cell_type": "code",
      "metadata": {
        "id": "2h79VvsXv4qB",
        "colab": {
          "base_uri": "https://localhost:8080/"
        },
        "outputId": "71424dc2-27dc-4bea-ef5a-8f79418990b3"
      },
      "source": [
        "# variance\n",
        "arr.var()"
      ],
      "execution_count": 44,
      "outputs": [
        {
          "output_type": "execute_result",
          "data": {
            "text/plain": [
              "2.0"
            ]
          },
          "metadata": {
            "tags": []
          },
          "execution_count": 44
        }
      ]
    },
    {
      "cell_type": "code",
      "metadata": {
        "id": "F5-He6W1v_Ko",
        "colab": {
          "base_uri": "https://localhost:8080/"
        },
        "outputId": "668c828c-5941-486f-ab2e-49f574c7a327"
      },
      "source": [
        "# standard deviation\n",
        "arr.std()"
      ],
      "execution_count": 45,
      "outputs": [
        {
          "output_type": "execute_result",
          "data": {
            "text/plain": [
              "1.4142135623730951"
            ]
          },
          "metadata": {
            "tags": []
          },
          "execution_count": 45
        }
      ]
    },
    {
      "cell_type": "markdown",
      "metadata": {
        "id": "_Qpj7KswOwxl"
      },
      "source": [
        "---  \n",
        "---  \n",
        "\n",
        "## Access this NoteBook:\n",
        "![numpyBasics.png](data:image/png;base64,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)  \n",
        "\n",
        "Link:  [https://bit.ly/3dcgm4q](https://bit.ly/3dcgm4q)"
      ]
    }
  ]
}