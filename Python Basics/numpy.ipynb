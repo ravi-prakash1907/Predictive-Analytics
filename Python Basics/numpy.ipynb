{
  "nbformat": 4,
  "nbformat_minor": 0,
  "metadata": {
    "colab": {
      "name": "numpy.ipynb",
      "provenance": [],
      "authorship_tag": "ABX9TyOmNxpFUm0IUAwt8+pK7RV1",
      "include_colab_link": true
    },
    "kernelspec": {
      "name": "python3",
      "display_name": "Python 3"
    },
    "language_info": {
      "name": "python"
    }
  },
  "cells": [
    {
      "cell_type": "markdown",
      "metadata": {
        "id": "view-in-github",
        "colab_type": "text"
      },
      "source": [
        "<a href=\"https://colab.research.google.com/github/ravi-prakash1907/Predictive-Analytics/blob/tuts/Python%20Basics/numpy.ipynb\" target=\"_parent\"><img src=\"https://colab.research.google.com/assets/colab-badge.svg\" alt=\"Open In Colab\"/></a>"
      ]
    },
    {
      "cell_type": "markdown",
      "metadata": {
        "id": "nReEieLsgi-t"
      },
      "source": [
        "# Basics of NumPy\n",
        "1. Intro  \n",
        "2. NumPy vs List  \n",
        "3. Operations on NumPy Array  \n",
        "4. Mathematical & Statistical  Funstions"
      ]
    },
    {
      "cell_type": "code",
      "metadata": {
        "id": "nF3-gAQjgn53"
      },
      "source": [
        "## loading library\n",
        "import numpy as np"
      ],
      "execution_count": 119,
      "outputs": []
    },
    {
      "cell_type": "markdown",
      "metadata": {
        "id": "VgZSgdxt0KPG"
      },
      "source": [
        "### Intro\n",
        "_Creating a numpy array_"
      ]
    },
    {
      "cell_type": "code",
      "metadata": {
        "colab": {
          "base_uri": "https://localhost:8080/"
        },
        "id": "LcPU-uWIggta",
        "outputId": "83832538-d78e-464c-f7bc-1d4d4fbe6fdb"
      },
      "source": [
        "## creating array\n",
        "a = np.array([1,2,3])\n",
        "print(a)"
      ],
      "execution_count": 2,
      "outputs": [
        {
          "output_type": "stream",
          "text": [
            "[1 2 3]\n"
          ],
          "name": "stdout"
        }
      ]
    },
    {
      "cell_type": "code",
      "metadata": {
        "colab": {
          "base_uri": "https://localhost:8080/"
        },
        "id": "qm02Uaweg8zd",
        "outputId": "34f8c32f-a6ab-4178-aa10-5b55eba2d699"
      },
      "source": [
        "a = np.array([(1,2,3),(4,5,6)])\n",
        "print(a)"
      ],
      "execution_count": 3,
      "outputs": [
        {
          "output_type": "stream",
          "text": [
            "[[1 2 3]\n",
            " [4 5 6]]\n"
          ],
          "name": "stdout"
        }
      ]
    },
    {
      "cell_type": "markdown",
      "metadata": {
        "id": "F3E3Zb2yhEKa"
      },
      "source": [
        "### NumPy vs List\n",
        "NumPy is prefered over the Lists, because:  \n",
        "1. Occupies less memory  \n",
        "2. Fast  \n",
        "3. Convenient to work with NumPy arr"
      ]
    },
    {
      "cell_type": "markdown",
      "metadata": {
        "id": "M17cuOojheWP"
      },
      "source": [
        "**validating...**"
      ]
    },
    {
      "cell_type": "code",
      "metadata": {
        "id": "_QHaKOBIhDVz"
      },
      "source": [
        "## loading lib\n",
        "import time\n",
        "import sys"
      ],
      "execution_count": 4,
      "outputs": []
    },
    {
      "cell_type": "code",
      "metadata": {
        "id": "GlqX35_-jPMm"
      },
      "source": [
        ""
      ],
      "execution_count": null,
      "outputs": []
    },
    {
      "cell_type": "markdown",
      "metadata": {
        "id": "loFUhHJpjP6r"
      },
      "source": [
        "##### **Memory comparision**"
      ]
    },
    {
      "cell_type": "code",
      "metadata": {
        "colab": {
          "base_uri": "https://localhost:8080/"
        },
        "id": "ESIfYGPPhnVt",
        "outputId": "afec9fa9-30c7-493c-da10-df513aae8e20"
      },
      "source": [
        "L1 = range(1000)  # 0-999\n",
        "print(\"Size of list = \",len(L1))\n",
        "print(\"Size of any single element in array = \",sys.getsizeof(L1[0]))\n",
        "print(\"Space occupied our list is {}\".format(sys.getsizeof(5)*len(L1)))"
      ],
      "execution_count": 11,
      "outputs": [
        {
          "output_type": "stream",
          "text": [
            "Size of list =  1000\n",
            "Size of any single element in array =  24\n",
            "Space occupied by '5' in our list is 28000\n"
          ],
          "name": "stdout"
        }
      ]
    },
    {
      "cell_type": "code",
      "metadata": {
        "colab": {
          "base_uri": "https://localhost:8080/"
        },
        "id": "R3bOLsTjiCNY",
        "outputId": "f14b8732-8803-47ac-e9db-e85a877676d2"
      },
      "source": [
        "Arr1 = np.arange(1000)\n",
        "print(\"Size of array = \",Arr1.size)\n",
        "print(\"Size of any single element in array = \",Arr1.itemsize)\n",
        "print(\"Space occupied by our np.array is {}\".format(Arr1.size*Arr1.itemsize))"
      ],
      "execution_count": 10,
      "outputs": [
        {
          "output_type": "stream",
          "text": [
            "Size of array =  1000\n",
            "Size of any single element in array =  8\n",
            "Space occupied by our np.array is 8000\n"
          ],
          "name": "stdout"
        }
      ]
    },
    {
      "cell_type": "markdown",
      "metadata": {
        "id": "EVF5eUl_jL0M"
      },
      "source": [
        "---\n",
        "\n",
        "##### **Speed comparision**"
      ]
    },
    {
      "cell_type": "code",
      "metadata": {
        "id": "zPIj4ZajiTo7"
      },
      "source": [
        "Size = 100000\n",
        "\n",
        "## adding 2 lists/arrays\n",
        "L1 = range(Size)\n",
        "L2 = range(Size)\n",
        "\n",
        "A1 = np.arange(Size)\n",
        "A2 = np.arange(Size)"
      ],
      "execution_count": 18,
      "outputs": []
    },
    {
      "cell_type": "code",
      "metadata": {
        "colab": {
          "base_uri": "https://localhost:8080/"
        },
        "id": "6d_2k_eujrul",
        "outputId": "3f84c34e-e1c5-4b1e-d654-354b06443b90"
      },
      "source": [
        "start = time.time()\n",
        "result = [(x,y) for x,y in zip(L1,L2)]\n",
        "print(\"Time taken to add lists is {} sec.\".format((time.time()-start)*1000))"
      ],
      "execution_count": 19,
      "outputs": [
        {
          "output_type": "stream",
          "text": [
            "Time taken to add lists is 42.598724365234375 sec.\n"
          ],
          "name": "stdout"
        }
      ]
    },
    {
      "cell_type": "code",
      "metadata": {
        "colab": {
          "base_uri": "https://localhost:8080/"
        },
        "id": "VaHsVAVdkSMn",
        "outputId": "6a2c3632-1ac2-439a-c28a-06da299235f8"
      },
      "source": [
        "start = time.time()\n",
        "## convenient too\n",
        "result = A1+A2\n",
        "print(\"Time taken to add arrays is {} sec.\".format((time.time()-start)*1000))"
      ],
      "execution_count": 20,
      "outputs": [
        {
          "output_type": "stream",
          "text": [
            "Time taken to add arrays is 12.630462646484375 sec.\n"
          ],
          "name": "stdout"
        }
      ]
    },
    {
      "cell_type": "markdown",
      "metadata": {
        "id": "PhxlQ6LQk3cm"
      },
      "source": [
        "### Operations on NumPy Array"
      ]
    },
    {
      "cell_type": "markdown",
      "metadata": {
        "id": "IdLkV-qjmgy2"
      },
      "source": [
        "#### Basics\n",
        "1. finding dimention  \n",
        "2. getting bytesize  \n",
        "3. finding  data-types"
      ]
    },
    {
      "cell_type": "code",
      "metadata": {
        "colab": {
          "base_uri": "https://localhost:8080/"
        },
        "id": "gHSWlNtFkfGl",
        "outputId": "39aecd5e-c57f-4b01-83ef-5ba2a7f96e8f"
      },
      "source": [
        "arr = np.array([[1,2,3],[2,3,4]])\n",
        "arr"
      ],
      "execution_count": 21,
      "outputs": [
        {
          "output_type": "execute_result",
          "data": {
            "text/plain": [
              "array([[1, 2, 3],\n",
              "       [2, 3, 4]])"
            ]
          },
          "metadata": {
            "tags": []
          },
          "execution_count": 21
        }
      ]
    },
    {
      "cell_type": "code",
      "metadata": {
        "colab": {
          "base_uri": "https://localhost:8080/"
        },
        "id": "VDr233I8lfUv",
        "outputId": "e9ece9d7-3097-4f5e-9b00-5d9d65776b2f"
      },
      "source": [
        "## Dimention\n",
        "print(\"Dimention is: \",arr.ndim)\n",
        "## finding byte size\n",
        "print(\"Space occupied by each element (in bytes): \",arr.itemsize)"
      ],
      "execution_count": 25,
      "outputs": [
        {
          "output_type": "stream",
          "text": [
            "Dimention is:  2\n",
            "Space occupied by each element (in bytes):  8\n"
          ],
          "name": "stdout"
        }
      ]
    },
    {
      "cell_type": "code",
      "metadata": {
        "colab": {
          "base_uri": "https://localhost:8080/"
        },
        "id": "upLSGe56lqPp",
        "outputId": "fdf60cfc-4b4a-4dff-dec0-a79af733539e"
      },
      "source": [
        "arr = np.arange(4)\n",
        "\n",
        "## Dimention\n",
        "print(\"Dimention of {} is: {}\".format(arr,arr.ndim))"
      ],
      "execution_count": 27,
      "outputs": [
        {
          "output_type": "stream",
          "text": [
            "Dimention of [0 1 2 3] is: 1\n"
          ],
          "name": "stdout"
        }
      ]
    },
    {
      "cell_type": "code",
      "metadata": {
        "colab": {
          "base_uri": "https://localhost:8080/"
        },
        "id": "ua2dJlnumFXN",
        "outputId": "5ced3220-c11b-4563-aa78-cd600c589eaa"
      },
      "source": [
        "## datatype\n",
        "arr.dtype"
      ],
      "execution_count": 29,
      "outputs": [
        {
          "output_type": "execute_result",
          "data": {
            "text/plain": [
              "dtype('int64')"
            ]
          },
          "metadata": {
            "tags": []
          },
          "execution_count": 29
        }
      ]
    },
    {
      "cell_type": "markdown",
      "metadata": {
        "id": "-DavB3Y5mjsA"
      },
      "source": [
        "#### Additional operations\n",
        "1. Size and Shape  \n",
        "2. Reshaping  \n",
        "3. Slicing"
      ]
    },
    {
      "cell_type": "code",
      "metadata": {
        "colab": {
          "base_uri": "https://localhost:8080/"
        },
        "id": "Kgr11JNjm2PA",
        "outputId": "ddf92429-0e39-41ae-b6cf-1bf6499a618b"
      },
      "source": [
        "arr = np.arange(24)\n",
        "arr"
      ],
      "execution_count": 59,
      "outputs": [
        {
          "output_type": "execute_result",
          "data": {
            "text/plain": [
              "array([ 0,  1,  2,  3,  4,  5,  6,  7,  8,  9, 10, 11, 12, 13, 14, 15, 16,\n",
              "       17, 18, 19, 20, 21, 22, 23])"
            ]
          },
          "metadata": {
            "tags": []
          },
          "execution_count": 59
        }
      ]
    },
    {
      "cell_type": "code",
      "metadata": {
        "colab": {
          "base_uri": "https://localhost:8080/"
        },
        "id": "UdP8qvmBma4_",
        "outputId": "d17c9273-4359-46ae-8431-3eca9b61e449"
      },
      "source": [
        "# size i.e. total elements\n",
        "print(\"Size = \",arr.size)\n",
        "\n",
        "# size total elements in each dim (i.e. in rows and cols)\n",
        "print(\"Shape = \",arr.shape)"
      ],
      "execution_count": 60,
      "outputs": [
        {
          "output_type": "stream",
          "text": [
            "Size =  24\n",
            "Shape =  (24,)\n"
          ],
          "name": "stdout"
        }
      ]
    },
    {
      "cell_type": "code",
      "metadata": {
        "colab": {
          "base_uri": "https://localhost:8080/"
        },
        "id": "bnaUrs1wonDK",
        "outputId": "d0ce5ac5-1a78-43fe-ac14-98795d97230a"
      },
      "source": [
        "print(\"Element at index 5: \",arr[4])"
      ],
      "execution_count": 61,
      "outputs": [
        {
          "output_type": "stream",
          "text": [
            "Element at index 5:  4\n"
          ],
          "name": "stdout"
        }
      ]
    },
    {
      "cell_type": "code",
      "metadata": {
        "colab": {
          "base_uri": "https://localhost:8080/"
        },
        "id": "-X31HszTnLVt",
        "outputId": "e72f0f95-0d0c-4744-9c91-be193d84b147"
      },
      "source": [
        "arr = arr.reshape(8,3)\n",
        "arr"
      ],
      "execution_count": 62,
      "outputs": [
        {
          "output_type": "execute_result",
          "data": {
            "text/plain": [
              "array([[ 0,  1,  2],\n",
              "       [ 3,  4,  5],\n",
              "       [ 6,  7,  8],\n",
              "       [ 9, 10, 11],\n",
              "       [12, 13, 14],\n",
              "       [15, 16, 17],\n",
              "       [18, 19, 20],\n",
              "       [21, 22, 23]])"
            ]
          },
          "metadata": {
            "tags": []
          },
          "execution_count": 62
        }
      ]
    },
    {
      "cell_type": "code",
      "metadata": {
        "colab": {
          "base_uri": "https://localhost:8080/"
        },
        "id": "nFd8ORW0nvWk",
        "outputId": "0ac762f8-fc7d-459d-a287-f475c7a45c71"
      },
      "source": [
        "# size i.e. total elements\n",
        "print(\"Size = \",arr.size)\n",
        "\n",
        "# size total elements in each dim (i.e. in rows and cols)\n",
        "print(\"Shape = \",arr.shape)"
      ],
      "execution_count": 63,
      "outputs": [
        {
          "output_type": "stream",
          "text": [
            "Size =  24\n",
            "Shape =  (8, 3)\n"
          ],
          "name": "stdout"
        }
      ]
    },
    {
      "cell_type": "code",
      "metadata": {
        "colab": {
          "base_uri": "https://localhost:8080/"
        },
        "id": "lv9WSgbKo2zi",
        "outputId": "e4d16104-09e7-4aec-d2f8-99715596b6a4"
      },
      "source": [
        "print(\"Element in row 3 and col 2: \",arr[2,1])"
      ],
      "execution_count": 64,
      "outputs": [
        {
          "output_type": "stream",
          "text": [
            "Element in row 3 and col 2:  7\n"
          ],
          "name": "stdout"
        }
      ]
    },
    {
      "cell_type": "code",
      "metadata": {
        "colab": {
          "base_uri": "https://localhost:8080/"
        },
        "id": "enMnPpgAoWbH",
        "outputId": "1d680804-243b-4ffc-d2ae-54f6620f47f9"
      },
      "source": [
        "arr = arr.reshape(3,2,4)\n",
        "arr"
      ],
      "execution_count": 67,
      "outputs": [
        {
          "output_type": "execute_result",
          "data": {
            "text/plain": [
              "array([[[ 0,  1,  2,  3],\n",
              "        [ 4,  5,  6,  7]],\n",
              "\n",
              "       [[ 8,  9, 10, 11],\n",
              "        [12, 13, 14, 15]],\n",
              "\n",
              "       [[16, 17, 18, 19],\n",
              "        [20, 21, 22, 23]]])"
            ]
          },
          "metadata": {
            "tags": []
          },
          "execution_count": 67
        }
      ]
    },
    {
      "cell_type": "code",
      "metadata": {
        "colab": {
          "base_uri": "https://localhost:8080/"
        },
        "id": "Tx67ka8OoQiM",
        "outputId": "8293af2c-5a00-4378-f9e5-313daa7aa374"
      },
      "source": [
        "# size i.e. total elements\n",
        "print(\"Size = \",arr.size)\n",
        "\n",
        "# size total elements in each dim (i.e. in rows and cols)\n",
        "print(\"Shape = \",arr.shape)"
      ],
      "execution_count": 68,
      "outputs": [
        {
          "output_type": "stream",
          "text": [
            "Size =  24\n",
            "Shape =  (3, 2, 4)\n"
          ],
          "name": "stdout"
        }
      ]
    },
    {
      "cell_type": "code",
      "metadata": {
        "colab": {
          "base_uri": "https://localhost:8080/"
        },
        "id": "6kY9Ky5Moh0X",
        "outputId": "c15578b9-34e9-4115-bfa5-9c1cb606cceb"
      },
      "source": [
        "print(\"Element in row 2 and col 4 from 2nd last matrix: \",arr[-2, 1, 3])"
      ],
      "execution_count": 70,
      "outputs": [
        {
          "output_type": "stream",
          "text": [
            "Element in row 2 and col 4 from 2nd last matrix:  15\n"
          ],
          "name": "stdout"
        }
      ]
    },
    {
      "cell_type": "code",
      "metadata": {
        "colab": {
          "base_uri": "https://localhost:8080/"
        },
        "id": "Nud0t19ypYPp",
        "outputId": "e51d8b51-2389-44d6-b26c-516af5d00f78"
      },
      "source": [
        "## print middle 2 values of first row every martix\n",
        "arr[:,0,1:3]"
      ],
      "execution_count": 71,
      "outputs": [
        {
          "output_type": "execute_result",
          "data": {
            "text/plain": [
              "array([[ 1,  2],\n",
              "       [ 9, 10],\n",
              "       [17, 18]])"
            ]
          },
          "metadata": {
            "tags": []
          },
          "execution_count": 71
        }
      ]
    },
    {
      "cell_type": "markdown",
      "metadata": {
        "id": "DUe2unxirAr1"
      },
      "source": [
        "#### Some inbuilt functions\n",
        "1. linspace  \n",
        "2. min  \n",
        "3. max  \n",
        "4. sum"
      ]
    },
    {
      "cell_type": "code",
      "metadata": {
        "colab": {
          "base_uri": "https://localhost:8080/"
        },
        "id": "_aTc1btAp1T2",
        "outputId": "05e1a345-4d7c-4d7e-c177-ed3b491ed110"
      },
      "source": [
        "# to find n number of values between 2 numbers \n",
        "## having equal gap\n",
        "arr = np.linspace(0,10,5)\n",
        "arr"
      ],
      "execution_count": 77,
      "outputs": [
        {
          "output_type": "execute_result",
          "data": {
            "text/plain": [
              "array([ 0. ,  2.5,  5. ,  7.5, 10. ])"
            ]
          },
          "metadata": {
            "tags": []
          },
          "execution_count": 77
        }
      ]
    },
    {
      "cell_type": "code",
      "metadata": {
        "colab": {
          "base_uri": "https://localhost:8080/"
        },
        "id": "RynaAFZWrdvk",
        "outputId": "afb4fa94-59ed-4815-86bb-aa5266964e6c"
      },
      "source": [
        "arr = np.arange(12)\n",
        "arr"
      ],
      "execution_count": 78,
      "outputs": [
        {
          "output_type": "execute_result",
          "data": {
            "text/plain": [
              "array([ 0,  1,  2,  3,  4,  5,  6,  7,  8,  9, 10, 11])"
            ]
          },
          "metadata": {
            "tags": []
          },
          "execution_count": 78
        }
      ]
    },
    {
      "cell_type": "code",
      "metadata": {
        "colab": {
          "base_uri": "https://localhost:8080/"
        },
        "id": "G2INpIojsW4o",
        "outputId": "ac3dda50-76fe-4967-e56b-d44e6ed3ac7f"
      },
      "source": [
        "## min\n",
        "print(\"Min val = {} \\nMax val = {} \\nSum of elements = {}\".format(arr.min(),\n",
        "                                                                  arr.max(),\n",
        "                                                                  arr.sum()))"
      ],
      "execution_count": 84,
      "outputs": [
        {
          "output_type": "stream",
          "text": [
            "Min val = 0 \n",
            "Max val = 11 \n",
            "Sum of elements = 66\n"
          ],
          "name": "stdout"
        }
      ]
    },
    {
      "cell_type": "markdown",
      "metadata": {
        "id": "tOn17mjLtQC6"
      },
      "source": [
        "#### Axis in NumPy\n",
        "1. Columns = axis 0  \n",
        "2. Rows = axis 1  "
      ]
    },
    {
      "cell_type": "code",
      "metadata": {
        "colab": {
          "base_uri": "https://localhost:8080/"
        },
        "id": "ktXEqv8-sddo",
        "outputId": "a0b03c8f-2de5-4002-ea63-61886a6226b1"
      },
      "source": [
        "arr = np.arange(1,31).reshape(6,5)\n",
        "print(arr)"
      ],
      "execution_count": 88,
      "outputs": [
        {
          "output_type": "stream",
          "text": [
            "[[ 1  2  3  4  5]\n",
            " [ 6  7  8  9 10]\n",
            " [11 12 13 14 15]\n",
            " [16 17 18 19 20]\n",
            " [21 22 23 24 25]\n",
            " [26 27 28 29 30]]\n"
          ],
          "name": "stdout"
        }
      ]
    },
    {
      "cell_type": "code",
      "metadata": {
        "colab": {
          "base_uri": "https://localhost:8080/"
        },
        "id": "OEeQ0LmWsfbA",
        "outputId": "e8f59f9a-4656-40d4-8138-1190b0205a8f"
      },
      "source": [
        "print(\"Shape: \",arr.shape)\n",
        "\n",
        "## finding row sum\n",
        "rowSum = arr.sum(axis=1)\n",
        "## finding col sum\n",
        "colSum = arr.sum(axis=0)"
      ],
      "execution_count": 95,
      "outputs": [
        {
          "output_type": "stream",
          "text": [
            "Shape:  (6, 5)\n"
          ],
          "name": "stdout"
        }
      ]
    },
    {
      "cell_type": "code",
      "metadata": {
        "colab": {
          "base_uri": "https://localhost:8080/"
        },
        "id": "h248hQeyuL1w",
        "outputId": "63527811-035c-4cd0-cd13-0bd2759329eb"
      },
      "source": [
        "print(\"Sum of all rows:\",rowSum)\n",
        "print(\"Total elements in sum array: \",len(rowSum))"
      ],
      "execution_count": 96,
      "outputs": [
        {
          "output_type": "stream",
          "text": [
            "Sum of all rows: [ 15  40  65  90 115 140]\n",
            "Total elements in sum array:  6\n"
          ],
          "name": "stdout"
        }
      ]
    },
    {
      "cell_type": "code",
      "metadata": {
        "colab": {
          "base_uri": "https://localhost:8080/"
        },
        "id": "uExH7HQEusn8",
        "outputId": "7ad09378-dc29-4bcc-87ab-dae1c320b730"
      },
      "source": [
        "print(\"Sum of all columns:\",colSum)\n",
        "print(\"Total elements in sum array: \",len(colSum))"
      ],
      "execution_count": 97,
      "outputs": [
        {
          "output_type": "stream",
          "text": [
            "Sum of all columns: [ 81  87  93  99 105]\n",
            "Total elements in sum array:  5\n"
          ],
          "name": "stdout"
        }
      ]
    },
    {
      "cell_type": "markdown",
      "metadata": {
        "id": "OJRRWi7kvGhO"
      },
      "source": [
        "### Math Operations"
      ]
    },
    {
      "cell_type": "code",
      "metadata": {
        "colab": {
          "base_uri": "https://localhost:8080/"
        },
        "id": "MU3Eec0zu54O",
        "outputId": "f06c72ec-22df-4374-b592-9504cbcfd58c"
      },
      "source": [
        "arr = np.arange(5)\n",
        "arr"
      ],
      "execution_count": 98,
      "outputs": [
        {
          "output_type": "execute_result",
          "data": {
            "text/plain": [
              "array([0, 1, 2, 3, 4])"
            ]
          },
          "metadata": {
            "tags": []
          },
          "execution_count": 98
        }
      ]
    },
    {
      "cell_type": "code",
      "metadata": {
        "colab": {
          "base_uri": "https://localhost:8080/"
        },
        "id": "aM8OzN14vMao",
        "outputId": "d3ef9dda-e7af-4eba-afb0-e8753c308d8f"
      },
      "source": [
        "## addition\n",
        "arr+2"
      ],
      "execution_count": 99,
      "outputs": [
        {
          "output_type": "execute_result",
          "data": {
            "text/plain": [
              "array([2, 3, 4, 5, 6])"
            ]
          },
          "metadata": {
            "tags": []
          },
          "execution_count": 99
        }
      ]
    },
    {
      "cell_type": "code",
      "metadata": {
        "colab": {
          "base_uri": "https://localhost:8080/"
        },
        "id": "-pKBdLl7vP8w",
        "outputId": "fff6828a-fa4b-48c0-90b0-365d1665467c"
      },
      "source": [
        "## multiplication\n",
        "arr*3"
      ],
      "execution_count": 100,
      "outputs": [
        {
          "output_type": "execute_result",
          "data": {
            "text/plain": [
              "array([ 0,  3,  6,  9, 12])"
            ]
          },
          "metadata": {
            "tags": []
          },
          "execution_count": 100
        }
      ]
    },
    {
      "cell_type": "code",
      "metadata": {
        "colab": {
          "base_uri": "https://localhost:8080/"
        },
        "id": "betGnjrIvixv",
        "outputId": "ee095f8a-ab8d-4468-fda5-af768c865297"
      },
      "source": [
        "## squareroot \n",
        "np.sqrt(arr)"
      ],
      "execution_count": 101,
      "outputs": [
        {
          "output_type": "execute_result",
          "data": {
            "text/plain": [
              "array([0.        , 1.        , 1.41421356, 1.73205081, 2.        ])"
            ]
          },
          "metadata": {
            "tags": []
          },
          "execution_count": 101
        }
      ]
    },
    {
      "cell_type": "markdown",
      "metadata": {
        "id": "eRFshL2cwOtd"
      },
      "source": [
        "**element-wise operation between 2 np.arrays**"
      ]
    },
    {
      "cell_type": "code",
      "metadata": {
        "colab": {
          "base_uri": "https://localhost:8080/"
        },
        "id": "pGNRQpsUwmVk",
        "outputId": "90b51516-6763-48af-daf8-c1819a5f8643"
      },
      "source": [
        "arr1 = np.arange(1,5).reshape(2,2)\n",
        "arr2 = np.arange(5,9).reshape(2,2)\n",
        "\n",
        "print(\"arr1: \\n{} \\n\\narr2: \\n{}\".format(arr1,arr2))"
      ],
      "execution_count": 114,
      "outputs": [
        {
          "output_type": "stream",
          "text": [
            "arr1: \n",
            "[[1 2]\n",
            " [3 4]] \n",
            "\n",
            "arr2: \n",
            "[[5 6]\n",
            " [7 8]]\n"
          ],
          "name": "stdout"
        }
      ]
    },
    {
      "cell_type": "code",
      "metadata": {
        "colab": {
          "base_uri": "https://localhost:8080/"
        },
        "id": "LPbz5nJzy5Nd",
        "outputId": "e4327ad1-d1e2-4810-eba1-05fcc5685d61"
      },
      "source": [
        "## Add\n",
        "arr1 + arr2"
      ],
      "execution_count": 115,
      "outputs": [
        {
          "output_type": "execute_result",
          "data": {
            "text/plain": [
              "array([[ 6,  8],\n",
              "       [10, 12]])"
            ]
          },
          "metadata": {
            "tags": []
          },
          "execution_count": 115
        }
      ]
    },
    {
      "cell_type": "code",
      "metadata": {
        "colab": {
          "base_uri": "https://localhost:8080/"
        },
        "id": "5O5WRQ2dy7_e",
        "outputId": "031bbc68-cf47-4114-dd9c-0af0bb9f4549"
      },
      "source": [
        "## sub\n",
        "arr1 - arr2"
      ],
      "execution_count": 116,
      "outputs": [
        {
          "output_type": "execute_result",
          "data": {
            "text/plain": [
              "array([[-4, -4],\n",
              "       [-4, -4]])"
            ]
          },
          "metadata": {
            "tags": []
          },
          "execution_count": 116
        }
      ]
    },
    {
      "cell_type": "code",
      "metadata": {
        "colab": {
          "base_uri": "https://localhost:8080/"
        },
        "id": "P-q8jz9bzBE6",
        "outputId": "3cbbf3af-7ff4-4848-a0ac-9f7c71e43822"
      },
      "source": [
        "## div\n",
        "arr2 // arr1"
      ],
      "execution_count": 118,
      "outputs": [
        {
          "output_type": "execute_result",
          "data": {
            "text/plain": [
              "array([[5, 3],\n",
              "       [2, 2]])"
            ]
          },
          "metadata": {
            "tags": []
          },
          "execution_count": 118
        }
      ]
    },
    {
      "cell_type": "markdown",
      "metadata": {
        "id": "LK3VzhXrvbom"
      },
      "source": [
        "### Statistical Fun"
      ]
    },
    {
      "cell_type": "code",
      "metadata": {
        "colab": {
          "base_uri": "https://localhost:8080/"
        },
        "id": "VfMGEVYlvVQc",
        "outputId": "0756c7ae-c2e7-4c00-ed31-857f95a452a9"
      },
      "source": [
        "print(\"Array: \",arr)"
      ],
      "execution_count": 103,
      "outputs": [
        {
          "output_type": "stream",
          "text": [
            "Array:  [0 1 2 3 4]\n"
          ],
          "name": "stdout"
        }
      ]
    },
    {
      "cell_type": "code",
      "metadata": {
        "colab": {
          "base_uri": "https://localhost:8080/"
        },
        "id": "S5NsRGFFvwmu",
        "outputId": "ae4e9b4d-220c-472d-bdfe-a376e9adf733"
      },
      "source": [
        "# mean\n",
        "arr.mean()"
      ],
      "execution_count": 104,
      "outputs": [
        {
          "output_type": "execute_result",
          "data": {
            "text/plain": [
              "2.0"
            ]
          },
          "metadata": {
            "tags": []
          },
          "execution_count": 104
        }
      ]
    },
    {
      "cell_type": "code",
      "metadata": {
        "colab": {
          "base_uri": "https://localhost:8080/"
        },
        "id": "2h79VvsXv4qB",
        "outputId": "79bd8462-4815-4f17-ed71-bbf5efbcfc31"
      },
      "source": [
        "# variance\n",
        "arr.var()"
      ],
      "execution_count": 105,
      "outputs": [
        {
          "output_type": "execute_result",
          "data": {
            "text/plain": [
              "2.0"
            ]
          },
          "metadata": {
            "tags": []
          },
          "execution_count": 105
        }
      ]
    },
    {
      "cell_type": "code",
      "metadata": {
        "colab": {
          "base_uri": "https://localhost:8080/"
        },
        "id": "F5-He6W1v_Ko",
        "outputId": "732efdc2-3acb-458d-ad82-745c3b162914"
      },
      "source": [
        "# standard deviation\n",
        "arr.std()"
      ],
      "execution_count": 106,
      "outputs": [
        {
          "output_type": "execute_result",
          "data": {
            "text/plain": [
              "1.4142135623730951"
            ]
          },
          "metadata": {
            "tags": []
          },
          "execution_count": 106
        }
      ]
    }
  ]
}