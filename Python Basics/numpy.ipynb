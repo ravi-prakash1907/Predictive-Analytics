{
  "nbformat": 4,
  "nbformat_minor": 0,
  "metadata": {
    "colab": {
      "name": "numpy.ipynb",
      "provenance": [],
      "authorship_tag": "ABX9TyOZY68NK+lU937bN0vodaNr",
      "include_colab_link": true
    },
    "kernelspec": {
      "name": "python3",
      "display_name": "Python 3"
    },
    "language_info": {
      "name": "python"
    }
  },
  "cells": [
    {
      "cell_type": "markdown",
      "metadata": {
        "id": "view-in-github",
        "colab_type": "text"
      },
      "source": [
        "<a href=\"https://colab.research.google.com/github/ravi-prakash1907/Predictive-Analytics/blob/tuts/Python%20Basics/numpy.ipynb\" target=\"_parent\"><img src=\"https://colab.research.google.com/assets/colab-badge.svg\" alt=\"Open In Colab\"/></a>"
      ]
    },
    {
      "cell_type": "markdown",
      "metadata": {
        "id": "nReEieLsgi-t"
      },
      "source": [
        "# Basics of NumPy\n",
        "1. Intro  \n",
        "2. NumPy vs List  \n",
        "3. Operations on NumPy Array  \n",
        "4. Mathematical & Statistical  Funstions"
      ]
    },
    {
      "cell_type": "code",
      "metadata": {
        "id": "nF3-gAQjgn53"
      },
      "source": [
        "## loading library\n",
        "import numpy as np"
      ],
      "execution_count": null,
      "outputs": []
    },
    {
      "cell_type": "markdown",
      "metadata": {
        "id": "VgZSgdxt0KPG"
      },
      "source": [
        "### Intro\n",
        "_Creating a numpy array_"
      ]
    },
    {
      "cell_type": "code",
      "metadata": {
        "colab": {
          "base_uri": "https://localhost:8080/"
        },
        "id": "LcPU-uWIggta",
        "outputId": "83832538-d78e-464c-f7bc-1d4d4fbe6fdb"
      },
      "source": [
        "## creating array\n",
        "a = np.array([1,2,3])\n",
        "print(a)"
      ],
      "execution_count": null,
      "outputs": [
        {
          "output_type": "stream",
          "text": [
            "[1 2 3]\n"
          ],
          "name": "stdout"
        }
      ]
    },
    {
      "cell_type": "code",
      "metadata": {
        "colab": {
          "base_uri": "https://localhost:8080/"
        },
        "id": "qm02Uaweg8zd",
        "outputId": "34f8c32f-a6ab-4178-aa10-5b55eba2d699"
      },
      "source": [
        "a = np.array([(1,2,3),(4,5,6)])\n",
        "print(a)"
      ],
      "execution_count": null,
      "outputs": [
        {
          "output_type": "stream",
          "text": [
            "[[1 2 3]\n",
            " [4 5 6]]\n"
          ],
          "name": "stdout"
        }
      ]
    },
    {
      "cell_type": "markdown",
      "metadata": {
        "id": "F3E3Zb2yhEKa"
      },
      "source": [
        "### NumPy vs List\n",
        "NumPy is prefered over the Lists, because:  \n",
        "1. Occupies less memory  \n",
        "2. Fast  \n",
        "3. Convenient to work with NumPy arr"
      ]
    },
    {
      "cell_type": "markdown",
      "metadata": {
        "id": "M17cuOojheWP"
      },
      "source": [
        "**validating...**"
      ]
    },
    {
      "cell_type": "code",
      "metadata": {
        "id": "_QHaKOBIhDVz"
      },
      "source": [
        "## loading lib\n",
        "import time\n",
        "import sys"
      ],
      "execution_count": null,
      "outputs": []
    },
    {
      "cell_type": "code",
      "metadata": {
        "id": "GlqX35_-jPMm"
      },
      "source": [
        ""
      ],
      "execution_count": null,
      "outputs": []
    },
    {
      "cell_type": "markdown",
      "metadata": {
        "id": "loFUhHJpjP6r"
      },
      "source": [
        "##### **Memory comparision**"
      ]
    },
    {
      "cell_type": "code",
      "metadata": {
        "colab": {
          "base_uri": "https://localhost:8080/"
        },
        "id": "ESIfYGPPhnVt",
        "outputId": "afec9fa9-30c7-493c-da10-df513aae8e20"
      },
      "source": [
        "L1 = range(1000)  # 0-999\n",
        "print(\"Size of list = \",len(L1))\n",
        "print(\"Size of any single element in array = \",sys.getsizeof(L1[0]))\n",
        "print(\"Space occupied our list is {}\".format(sys.getsizeof(5)*len(L1)))"
      ],
      "execution_count": null,
      "outputs": [
        {
          "output_type": "stream",
          "text": [
            "Size of list =  1000\n",
            "Size of any single element in array =  24\n",
            "Space occupied by '5' in our list is 28000\n"
          ],
          "name": "stdout"
        }
      ]
    },
    {
      "cell_type": "code",
      "metadata": {
        "colab": {
          "base_uri": "https://localhost:8080/"
        },
        "id": "R3bOLsTjiCNY",
        "outputId": "f14b8732-8803-47ac-e9db-e85a877676d2"
      },
      "source": [
        "Arr1 = np.arange(1000)\n",
        "print(\"Size of array = \",Arr1.size)\n",
        "print(\"Size of any single element in array = \",Arr1.itemsize)\n",
        "print(\"Space occupied by our np.array is {}\".format(Arr1.size*Arr1.itemsize))"
      ],
      "execution_count": null,
      "outputs": [
        {
          "output_type": "stream",
          "text": [
            "Size of array =  1000\n",
            "Size of any single element in array =  8\n",
            "Space occupied by our np.array is 8000\n"
          ],
          "name": "stdout"
        }
      ]
    },
    {
      "cell_type": "markdown",
      "metadata": {
        "id": "EVF5eUl_jL0M"
      },
      "source": [
        "---\n",
        "\n",
        "##### **Speed comparision**"
      ]
    },
    {
      "cell_type": "code",
      "metadata": {
        "id": "zPIj4ZajiTo7"
      },
      "source": [
        "Size = 100000\n",
        "\n",
        "## adding 2 lists/arrays\n",
        "L1 = range(Size)\n",
        "L2 = range(Size)\n",
        "\n",
        "A1 = np.arange(Size)\n",
        "A2 = np.arange(Size)"
      ],
      "execution_count": null,
      "outputs": []
    },
    {
      "cell_type": "code",
      "metadata": {
        "colab": {
          "base_uri": "https://localhost:8080/"
        },
        "id": "6d_2k_eujrul",
        "outputId": "3f84c34e-e1c5-4b1e-d654-354b06443b90"
      },
      "source": [
        "start = time.time()\n",
        "result = [(x,y) for x,y in zip(L1,L2)]\n",
        "print(\"Time taken to add lists is {} sec.\".format((time.time()-start)*1000))"
      ],
      "execution_count": null,
      "outputs": [
        {
          "output_type": "stream",
          "text": [
            "Time taken to add lists is 42.598724365234375 sec.\n"
          ],
          "name": "stdout"
        }
      ]
    },
    {
      "cell_type": "code",
      "metadata": {
        "colab": {
          "base_uri": "https://localhost:8080/"
        },
        "id": "VaHsVAVdkSMn",
        "outputId": "6a2c3632-1ac2-439a-c28a-06da299235f8"
      },
      "source": [
        "start = time.time()\n",
        "## convenient too\n",
        "result = A1+A2\n",
        "print(\"Time taken to add arrays is {} sec.\".format((time.time()-start)*1000))"
      ],
      "execution_count": null,
      "outputs": [
        {
          "output_type": "stream",
          "text": [
            "Time taken to add arrays is 12.630462646484375 sec.\n"
          ],
          "name": "stdout"
        }
      ]
    },
    {
      "cell_type": "markdown",
      "metadata": {
        "id": "PhxlQ6LQk3cm"
      },
      "source": [
        "### Operations on NumPy Array"
      ]
    },
    {
      "cell_type": "markdown",
      "metadata": {
        "id": "IdLkV-qjmgy2"
      },
      "source": [
        "#### Basics\n",
        "1. finding dimention  \n",
        "2. getting bytesize  \n",
        "3. finding  data-types"
      ]
    },
    {
      "cell_type": "code",
      "metadata": {
        "colab": {
          "base_uri": "https://localhost:8080/"
        },
        "id": "gHSWlNtFkfGl",
        "outputId": "39aecd5e-c57f-4b01-83ef-5ba2a7f96e8f"
      },
      "source": [
        "arr = np.array([[1,2,3],[2,3,4]])\n",
        "arr"
      ],
      "execution_count": null,
      "outputs": [
        {
          "output_type": "execute_result",
          "data": {
            "text/plain": [
              "array([[1, 2, 3],\n",
              "       [2, 3, 4]])"
            ]
          },
          "metadata": {
            "tags": []
          },
          "execution_count": 21
        }
      ]
    },
    {
      "cell_type": "code",
      "metadata": {
        "colab": {
          "base_uri": "https://localhost:8080/"
        },
        "id": "VDr233I8lfUv",
        "outputId": "e9ece9d7-3097-4f5e-9b00-5d9d65776b2f"
      },
      "source": [
        "## Dimention\n",
        "print(\"Dimention is: \",arr.ndim)\n",
        "## finding byte size\n",
        "print(\"Space occupied by each element (in bytes): \",arr.itemsize)"
      ],
      "execution_count": null,
      "outputs": [
        {
          "output_type": "stream",
          "text": [
            "Dimention is:  2\n",
            "Space occupied by each element (in bytes):  8\n"
          ],
          "name": "stdout"
        }
      ]
    },
    {
      "cell_type": "code",
      "metadata": {
        "colab": {
          "base_uri": "https://localhost:8080/"
        },
        "id": "upLSGe56lqPp",
        "outputId": "fdf60cfc-4b4a-4dff-dec0-a79af733539e"
      },
      "source": [
        "arr = np.arange(4)\n",
        "\n",
        "## Dimention\n",
        "print(\"Dimention of {} is: {}\".format(arr,arr.ndim))"
      ],
      "execution_count": null,
      "outputs": [
        {
          "output_type": "stream",
          "text": [
            "Dimention of [0 1 2 3] is: 1\n"
          ],
          "name": "stdout"
        }
      ]
    },
    {
      "cell_type": "code",
      "metadata": {
        "colab": {
          "base_uri": "https://localhost:8080/"
        },
        "id": "ua2dJlnumFXN",
        "outputId": "5ced3220-c11b-4563-aa78-cd600c589eaa"
      },
      "source": [
        "## datatype\n",
        "arr.dtype"
      ],
      "execution_count": null,
      "outputs": [
        {
          "output_type": "execute_result",
          "data": {
            "text/plain": [
              "dtype('int64')"
            ]
          },
          "metadata": {
            "tags": []
          },
          "execution_count": 29
        }
      ]
    },
    {
      "cell_type": "markdown",
      "metadata": {
        "id": "-DavB3Y5mjsA"
      },
      "source": [
        "#### Additional operations\n",
        "1. Size and Shape  \n",
        "2. Reshaping  \n",
        "3. Slicing"
      ]
    },
    {
      "cell_type": "code",
      "metadata": {
        "colab": {
          "base_uri": "https://localhost:8080/"
        },
        "id": "Kgr11JNjm2PA",
        "outputId": "ddf92429-0e39-41ae-b6cf-1bf6499a618b"
      },
      "source": [
        "arr = np.arange(24)\n",
        "arr"
      ],
      "execution_count": null,
      "outputs": [
        {
          "output_type": "execute_result",
          "data": {
            "text/plain": [
              "array([ 0,  1,  2,  3,  4,  5,  6,  7,  8,  9, 10, 11, 12, 13, 14, 15, 16,\n",
              "       17, 18, 19, 20, 21, 22, 23])"
            ]
          },
          "metadata": {
            "tags": []
          },
          "execution_count": 59
        }
      ]
    },
    {
      "cell_type": "code",
      "metadata": {
        "colab": {
          "base_uri": "https://localhost:8080/"
        },
        "id": "UdP8qvmBma4_",
        "outputId": "d17c9273-4359-46ae-8431-3eca9b61e449"
      },
      "source": [
        "# size i.e. total elements\n",
        "print(\"Size = \",arr.size)\n",
        "\n",
        "# size total elements in each dim (i.e. in rows and cols)\n",
        "print(\"Shape = \",arr.shape)"
      ],
      "execution_count": null,
      "outputs": [
        {
          "output_type": "stream",
          "text": [
            "Size =  24\n",
            "Shape =  (24,)\n"
          ],
          "name": "stdout"
        }
      ]
    },
    {
      "cell_type": "code",
      "metadata": {
        "colab": {
          "base_uri": "https://localhost:8080/"
        },
        "id": "bnaUrs1wonDK",
        "outputId": "d0ce5ac5-1a78-43fe-ac14-98795d97230a"
      },
      "source": [
        "print(\"Element at index 5: \",arr[4])"
      ],
      "execution_count": null,
      "outputs": [
        {
          "output_type": "stream",
          "text": [
            "Element at index 5:  4\n"
          ],
          "name": "stdout"
        }
      ]
    },
    {
      "cell_type": "code",
      "metadata": {
        "colab": {
          "base_uri": "https://localhost:8080/"
        },
        "id": "-X31HszTnLVt",
        "outputId": "e72f0f95-0d0c-4744-9c91-be193d84b147"
      },
      "source": [
        "arr = arr.reshape(8,3)\n",
        "arr"
      ],
      "execution_count": null,
      "outputs": [
        {
          "output_type": "execute_result",
          "data": {
            "text/plain": [
              "array([[ 0,  1,  2],\n",
              "       [ 3,  4,  5],\n",
              "       [ 6,  7,  8],\n",
              "       [ 9, 10, 11],\n",
              "       [12, 13, 14],\n",
              "       [15, 16, 17],\n",
              "       [18, 19, 20],\n",
              "       [21, 22, 23]])"
            ]
          },
          "metadata": {
            "tags": []
          },
          "execution_count": 62
        }
      ]
    },
    {
      "cell_type": "code",
      "metadata": {
        "colab": {
          "base_uri": "https://localhost:8080/"
        },
        "id": "nFd8ORW0nvWk",
        "outputId": "0ac762f8-fc7d-459d-a287-f475c7a45c71"
      },
      "source": [
        "# size i.e. total elements\n",
        "print(\"Size = \",arr.size)\n",
        "\n",
        "# size total elements in each dim (i.e. in rows and cols)\n",
        "print(\"Shape = \",arr.shape)"
      ],
      "execution_count": null,
      "outputs": [
        {
          "output_type": "stream",
          "text": [
            "Size =  24\n",
            "Shape =  (8, 3)\n"
          ],
          "name": "stdout"
        }
      ]
    },
    {
      "cell_type": "code",
      "metadata": {
        "colab": {
          "base_uri": "https://localhost:8080/"
        },
        "id": "lv9WSgbKo2zi",
        "outputId": "e4d16104-09e7-4aec-d2f8-99715596b6a4"
      },
      "source": [
        "print(\"Element in row 3 and col 2: \",arr[2,1])"
      ],
      "execution_count": null,
      "outputs": [
        {
          "output_type": "stream",
          "text": [
            "Element in row 3 and col 2:  7\n"
          ],
          "name": "stdout"
        }
      ]
    },
    {
      "cell_type": "code",
      "metadata": {
        "colab": {
          "base_uri": "https://localhost:8080/"
        },
        "id": "enMnPpgAoWbH",
        "outputId": "1d680804-243b-4ffc-d2ae-54f6620f47f9"
      },
      "source": [
        "arr = arr.reshape(3,2,4)\n",
        "arr"
      ],
      "execution_count": null,
      "outputs": [
        {
          "output_type": "execute_result",
          "data": {
            "text/plain": [
              "array([[[ 0,  1,  2,  3],\n",
              "        [ 4,  5,  6,  7]],\n",
              "\n",
              "       [[ 8,  9, 10, 11],\n",
              "        [12, 13, 14, 15]],\n",
              "\n",
              "       [[16, 17, 18, 19],\n",
              "        [20, 21, 22, 23]]])"
            ]
          },
          "metadata": {
            "tags": []
          },
          "execution_count": 67
        }
      ]
    },
    {
      "cell_type": "code",
      "metadata": {
        "colab": {
          "base_uri": "https://localhost:8080/"
        },
        "id": "Tx67ka8OoQiM",
        "outputId": "8293af2c-5a00-4378-f9e5-313daa7aa374"
      },
      "source": [
        "# size i.e. total elements\n",
        "print(\"Size = \",arr.size)\n",
        "\n",
        "# size total elements in each dim (i.e. in rows and cols)\n",
        "print(\"Shape = \",arr.shape)"
      ],
      "execution_count": null,
      "outputs": [
        {
          "output_type": "stream",
          "text": [
            "Size =  24\n",
            "Shape =  (3, 2, 4)\n"
          ],
          "name": "stdout"
        }
      ]
    },
    {
      "cell_type": "code",
      "metadata": {
        "colab": {
          "base_uri": "https://localhost:8080/"
        },
        "id": "6kY9Ky5Moh0X",
        "outputId": "c15578b9-34e9-4115-bfa5-9c1cb606cceb"
      },
      "source": [
        "print(\"Element in row 2 and col 4 from 2nd last matrix: \",arr[-2, 1, 3])"
      ],
      "execution_count": null,
      "outputs": [
        {
          "output_type": "stream",
          "text": [
            "Element in row 2 and col 4 from 2nd last matrix:  15\n"
          ],
          "name": "stdout"
        }
      ]
    },
    {
      "cell_type": "code",
      "metadata": {
        "colab": {
          "base_uri": "https://localhost:8080/"
        },
        "id": "Nud0t19ypYPp",
        "outputId": "e51d8b51-2389-44d6-b26c-516af5d00f78"
      },
      "source": [
        "## print middle 2 values of first row every martix\n",
        "arr[:,0,1:3]"
      ],
      "execution_count": null,
      "outputs": [
        {
          "output_type": "execute_result",
          "data": {
            "text/plain": [
              "array([[ 1,  2],\n",
              "       [ 9, 10],\n",
              "       [17, 18]])"
            ]
          },
          "metadata": {
            "tags": []
          },
          "execution_count": 71
        }
      ]
    },
    {
      "cell_type": "markdown",
      "metadata": {
        "id": "DUe2unxirAr1"
      },
      "source": [
        "#### Some inbuilt functions\n",
        "1. linspace  \n",
        "2. min  \n",
        "3. max  \n",
        "4. sum"
      ]
    },
    {
      "cell_type": "code",
      "metadata": {
        "colab": {
          "base_uri": "https://localhost:8080/"
        },
        "id": "_aTc1btAp1T2",
        "outputId": "05e1a345-4d7c-4d7e-c177-ed3b491ed110"
      },
      "source": [
        "# to find n number of values between 2 numbers \n",
        "## having equal gap\n",
        "arr = np.linspace(0,10,5)\n",
        "arr"
      ],
      "execution_count": null,
      "outputs": [
        {
          "output_type": "execute_result",
          "data": {
            "text/plain": [
              "array([ 0. ,  2.5,  5. ,  7.5, 10. ])"
            ]
          },
          "metadata": {
            "tags": []
          },
          "execution_count": 77
        }
      ]
    },
    {
      "cell_type": "code",
      "metadata": {
        "colab": {
          "base_uri": "https://localhost:8080/"
        },
        "id": "RynaAFZWrdvk",
        "outputId": "afb4fa94-59ed-4815-86bb-aa5266964e6c"
      },
      "source": [
        "arr = np.arange(12)\n",
        "arr"
      ],
      "execution_count": null,
      "outputs": [
        {
          "output_type": "execute_result",
          "data": {
            "text/plain": [
              "array([ 0,  1,  2,  3,  4,  5,  6,  7,  8,  9, 10, 11])"
            ]
          },
          "metadata": {
            "tags": []
          },
          "execution_count": 78
        }
      ]
    },
    {
      "cell_type": "code",
      "metadata": {
        "colab": {
          "base_uri": "https://localhost:8080/"
        },
        "id": "G2INpIojsW4o",
        "outputId": "ac3dda50-76fe-4967-e56b-d44e6ed3ac7f"
      },
      "source": [
        "## min\n",
        "print(\"Min val = {} \\nMax val = {} \\nSum of elements = {}\".format(arr.min(),\n",
        "                                                                  arr.max(),\n",
        "                                                                  arr.sum()))"
      ],
      "execution_count": null,
      "outputs": [
        {
          "output_type": "stream",
          "text": [
            "Min val = 0 \n",
            "Max val = 11 \n",
            "Sum of elements = 66\n"
          ],
          "name": "stdout"
        }
      ]
    },
    {
      "cell_type": "markdown",
      "metadata": {
        "id": "tOn17mjLtQC6"
      },
      "source": [
        "#### Axis in NumPy\n",
        "1. Columns = axis 0  \n",
        "2. Rows = axis 1  "
      ]
    },
    {
      "cell_type": "code",
      "metadata": {
        "colab": {
          "base_uri": "https://localhost:8080/"
        },
        "id": "ktXEqv8-sddo",
        "outputId": "a0b03c8f-2de5-4002-ea63-61886a6226b1"
      },
      "source": [
        "arr = np.arange(1,31).reshape(6,5)\n",
        "print(arr)"
      ],
      "execution_count": null,
      "outputs": [
        {
          "output_type": "stream",
          "text": [
            "[[ 1  2  3  4  5]\n",
            " [ 6  7  8  9 10]\n",
            " [11 12 13 14 15]\n",
            " [16 17 18 19 20]\n",
            " [21 22 23 24 25]\n",
            " [26 27 28 29 30]]\n"
          ],
          "name": "stdout"
        }
      ]
    },
    {
      "cell_type": "code",
      "metadata": {
        "colab": {
          "base_uri": "https://localhost:8080/"
        },
        "id": "OEeQ0LmWsfbA",
        "outputId": "e8f59f9a-4656-40d4-8138-1190b0205a8f"
      },
      "source": [
        "print(\"Shape: \",arr.shape)\n",
        "\n",
        "## finding row sum\n",
        "rowSum = arr.sum(axis=1)\n",
        "## finding col sum\n",
        "colSum = arr.sum(axis=0)"
      ],
      "execution_count": null,
      "outputs": [
        {
          "output_type": "stream",
          "text": [
            "Shape:  (6, 5)\n"
          ],
          "name": "stdout"
        }
      ]
    },
    {
      "cell_type": "code",
      "metadata": {
        "colab": {
          "base_uri": "https://localhost:8080/"
        },
        "id": "h248hQeyuL1w",
        "outputId": "63527811-035c-4cd0-cd13-0bd2759329eb"
      },
      "source": [
        "print(\"Sum of all rows:\",rowSum)\n",
        "print(\"Total elements in sum array: \",len(rowSum))"
      ],
      "execution_count": null,
      "outputs": [
        {
          "output_type": "stream",
          "text": [
            "Sum of all rows: [ 15  40  65  90 115 140]\n",
            "Total elements in sum array:  6\n"
          ],
          "name": "stdout"
        }
      ]
    },
    {
      "cell_type": "code",
      "metadata": {
        "colab": {
          "base_uri": "https://localhost:8080/"
        },
        "id": "uExH7HQEusn8",
        "outputId": "7ad09378-dc29-4bcc-87ab-dae1c320b730"
      },
      "source": [
        "print(\"Sum of all columns:\",colSum)\n",
        "print(\"Total elements in sum array: \",len(colSum))"
      ],
      "execution_count": null,
      "outputs": [
        {
          "output_type": "stream",
          "text": [
            "Sum of all columns: [ 81  87  93  99 105]\n",
            "Total elements in sum array:  5\n"
          ],
          "name": "stdout"
        }
      ]
    },
    {
      "cell_type": "markdown",
      "metadata": {
        "id": "OJRRWi7kvGhO"
      },
      "source": [
        "### Math Operations"
      ]
    },
    {
      "cell_type": "code",
      "metadata": {
        "colab": {
          "base_uri": "https://localhost:8080/"
        },
        "id": "MU3Eec0zu54O",
        "outputId": "f06c72ec-22df-4374-b592-9504cbcfd58c"
      },
      "source": [
        "arr = np.arange(5)\n",
        "arr"
      ],
      "execution_count": null,
      "outputs": [
        {
          "output_type": "execute_result",
          "data": {
            "text/plain": [
              "array([0, 1, 2, 3, 4])"
            ]
          },
          "metadata": {
            "tags": []
          },
          "execution_count": 98
        }
      ]
    },
    {
      "cell_type": "code",
      "metadata": {
        "colab": {
          "base_uri": "https://localhost:8080/"
        },
        "id": "aM8OzN14vMao",
        "outputId": "d3ef9dda-e7af-4eba-afb0-e8753c308d8f"
      },
      "source": [
        "## addition\n",
        "arr+2"
      ],
      "execution_count": null,
      "outputs": [
        {
          "output_type": "execute_result",
          "data": {
            "text/plain": [
              "array([2, 3, 4, 5, 6])"
            ]
          },
          "metadata": {
            "tags": []
          },
          "execution_count": 99
        }
      ]
    },
    {
      "cell_type": "code",
      "metadata": {
        "colab": {
          "base_uri": "https://localhost:8080/"
        },
        "id": "-pKBdLl7vP8w",
        "outputId": "fff6828a-fa4b-48c0-90b0-365d1665467c"
      },
      "source": [
        "## multiplication\n",
        "arr*3"
      ],
      "execution_count": null,
      "outputs": [
        {
          "output_type": "execute_result",
          "data": {
            "text/plain": [
              "array([ 0,  3,  6,  9, 12])"
            ]
          },
          "metadata": {
            "tags": []
          },
          "execution_count": 100
        }
      ]
    },
    {
      "cell_type": "code",
      "metadata": {
        "colab": {
          "base_uri": "https://localhost:8080/"
        },
        "id": "betGnjrIvixv",
        "outputId": "ee095f8a-ab8d-4468-fda5-af768c865297"
      },
      "source": [
        "## squareroot \n",
        "np.sqrt(arr)"
      ],
      "execution_count": null,
      "outputs": [
        {
          "output_type": "execute_result",
          "data": {
            "text/plain": [
              "array([0.        , 1.        , 1.41421356, 1.73205081, 2.        ])"
            ]
          },
          "metadata": {
            "tags": []
          },
          "execution_count": 101
        }
      ]
    },
    {
      "cell_type": "markdown",
      "metadata": {
        "id": "eRFshL2cwOtd"
      },
      "source": [
        "**element-wise operation between 2 np.arrays**"
      ]
    },
    {
      "cell_type": "code",
      "metadata": {
        "colab": {
          "base_uri": "https://localhost:8080/"
        },
        "id": "pGNRQpsUwmVk",
        "outputId": "90b51516-6763-48af-daf8-c1819a5f8643"
      },
      "source": [
        "arr1 = np.arange(1,5).reshape(2,2)\n",
        "arr2 = np.arange(5,9).reshape(2,2)\n",
        "\n",
        "print(\"arr1: \\n{} \\n\\narr2: \\n{}\".format(arr1,arr2))"
      ],
      "execution_count": null,
      "outputs": [
        {
          "output_type": "stream",
          "text": [
            "arr1: \n",
            "[[1 2]\n",
            " [3 4]] \n",
            "\n",
            "arr2: \n",
            "[[5 6]\n",
            " [7 8]]\n"
          ],
          "name": "stdout"
        }
      ]
    },
    {
      "cell_type": "code",
      "metadata": {
        "colab": {
          "base_uri": "https://localhost:8080/"
        },
        "id": "LPbz5nJzy5Nd",
        "outputId": "e4327ad1-d1e2-4810-eba1-05fcc5685d61"
      },
      "source": [
        "## Add\n",
        "arr1 + arr2"
      ],
      "execution_count": null,
      "outputs": [
        {
          "output_type": "execute_result",
          "data": {
            "text/plain": [
              "array([[ 6,  8],\n",
              "       [10, 12]])"
            ]
          },
          "metadata": {
            "tags": []
          },
          "execution_count": 115
        }
      ]
    },
    {
      "cell_type": "code",
      "metadata": {
        "colab": {
          "base_uri": "https://localhost:8080/"
        },
        "id": "5O5WRQ2dy7_e",
        "outputId": "031bbc68-cf47-4114-dd9c-0af0bb9f4549"
      },
      "source": [
        "## sub\n",
        "arr1 - arr2"
      ],
      "execution_count": null,
      "outputs": [
        {
          "output_type": "execute_result",
          "data": {
            "text/plain": [
              "array([[-4, -4],\n",
              "       [-4, -4]])"
            ]
          },
          "metadata": {
            "tags": []
          },
          "execution_count": 116
        }
      ]
    },
    {
      "cell_type": "code",
      "metadata": {
        "colab": {
          "base_uri": "https://localhost:8080/"
        },
        "id": "P-q8jz9bzBE6",
        "outputId": "3cbbf3af-7ff4-4848-a0ac-9f7c71e43822"
      },
      "source": [
        "## div\n",
        "arr2 // arr1"
      ],
      "execution_count": null,
      "outputs": [
        {
          "output_type": "execute_result",
          "data": {
            "text/plain": [
              "array([[5, 3],\n",
              "       [2, 2]])"
            ]
          },
          "metadata": {
            "tags": []
          },
          "execution_count": 118
        }
      ]
    },
    {
      "cell_type": "markdown",
      "metadata": {
        "id": "LK3VzhXrvbom"
      },
      "source": [
        "### Statistical Fun"
      ]
    },
    {
      "cell_type": "code",
      "metadata": {
        "colab": {
          "base_uri": "https://localhost:8080/"
        },
        "id": "VfMGEVYlvVQc",
        "outputId": "0756c7ae-c2e7-4c00-ed31-857f95a452a9"
      },
      "source": [
        "print(\"Array: \",arr)"
      ],
      "execution_count": null,
      "outputs": [
        {
          "output_type": "stream",
          "text": [
            "Array:  [0 1 2 3 4]\n"
          ],
          "name": "stdout"
        }
      ]
    },
    {
      "cell_type": "code",
      "metadata": {
        "colab": {
          "base_uri": "https://localhost:8080/"
        },
        "id": "S5NsRGFFvwmu",
        "outputId": "ae4e9b4d-220c-472d-bdfe-a376e9adf733"
      },
      "source": [
        "# mean\n",
        "arr.mean()"
      ],
      "execution_count": null,
      "outputs": [
        {
          "output_type": "execute_result",
          "data": {
            "text/plain": [
              "2.0"
            ]
          },
          "metadata": {
            "tags": []
          },
          "execution_count": 104
        }
      ]
    },
    {
      "cell_type": "code",
      "metadata": {
        "colab": {
          "base_uri": "https://localhost:8080/"
        },
        "id": "2h79VvsXv4qB",
        "outputId": "79bd8462-4815-4f17-ed71-bbf5efbcfc31"
      },
      "source": [
        "# variance\n",
        "arr.var()"
      ],
      "execution_count": null,
      "outputs": [
        {
          "output_type": "execute_result",
          "data": {
            "text/plain": [
              "2.0"
            ]
          },
          "metadata": {
            "tags": []
          },
          "execution_count": 105
        }
      ]
    },
    {
      "cell_type": "code",
      "metadata": {
        "colab": {
          "base_uri": "https://localhost:8080/"
        },
        "id": "F5-He6W1v_Ko",
        "outputId": "732efdc2-3acb-458d-ad82-745c3b162914"
      },
      "source": [
        "# standard deviation\n",
        "arr.std()"
      ],
      "execution_count": null,
      "outputs": [
        {
          "output_type": "execute_result",
          "data": {
            "text/plain": [
              "1.4142135623730951"
            ]
          },
          "metadata": {
            "tags": []
          },
          "execution_count": 106
        }
      ]
    },
    {
      "cell_type": "markdown",
      "metadata": {
        "id": "_Qpj7KswOwxl"
      },
      "source": [
        "---  \n",
        "---  \n",
        "\n",
        "## Access this NoteBook:\n",
        "![numpyBasics.png](data:image/png;base64,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)  \n",
        "\n",
        "Link:  [https://bit.ly/3dcgm4q](https://bit.ly/3dcgm4q)"
      ]
    }
  ]
}