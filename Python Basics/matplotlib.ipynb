{
  "nbformat": 4,
  "nbformat_minor": 0,
  "metadata": {
    "colab": {
      "name": "matplotlib.ipynb",
      "provenance": [],
      "authorship_tag": "ABX9TyOhZHfz5mJPZD/g2WmPjdwS",
      "include_colab_link": true
    },
    "kernelspec": {
      "name": "python3",
      "display_name": "Python 3"
    },
    "language_info": {
      "name": "python"
    }
  },
  "cells": [
    {
      "cell_type": "markdown",
      "metadata": {
        "id": "view-in-github",
        "colab_type": "text"
      },
      "source": [
        "<a href=\"https://colab.research.google.com/github/ravi-prakash1907/Predictive-Analytics/blob/tuts/Python%20Basics/matplotlib.ipynb\" target=\"_parent\"><img src=\"https://colab.research.google.com/assets/colab-badge.svg\" alt=\"Open In Colab\"/></a>"
      ]
    },
    {
      "cell_type": "markdown",
      "metadata": {
        "id": "nReEieLsgi-t"
      },
      "source": [
        "# Basics of Matplotlib\n",
        "1. Significance of visualizations  \n",
        "2. Visualization using Matplotlib  \n",
        "3. Few common plots:  \n",
        "  - Bar Plot  \n",
        "  - Histogram  \n",
        "  - Scatter Plot  \n",
        "  - Area Plot"
      ]
    },
    {
      "cell_type": "code",
      "metadata": {
        "id": "nF3-gAQjgn53"
      },
      "source": [
        "## loading library\n",
        "import matplotlib.pyplot as plt"
      ],
      "execution_count": null,
      "outputs": []
    },
    {
      "cell_type": "markdown",
      "metadata": {
        "id": "A40m62A1Vesv"
      },
      "source": [
        "## Significance of visualizations!\n",
        "We visualize because just by looking a graph/plot:  \n",
        "* we can see the overall trend of data  \n",
        "* we can interpret how effective every data point is  \n",
        "* we can easily figure out those features on which, the whole trend is highly dependent"
      ]
    },
    {
      "cell_type": "markdown",
      "metadata": {
        "id": "YmDFYncFXYMx"
      },
      "source": [
        "## Visualization using Matplotlib  \n",
        "1. Takes a black canvas\n",
        "2. Plots the desired graph or chart any other visualisation using ```matplotlib.pyplot.plot()```  \n",
        "3. Adds some specifications viz. _title_, _axis names_ etc..  \n",
        "4. Displays the visualization using ```matplotlib.pyplot.show()```\n",
        "\n",
        "---\n"
      ]
    },
    {
      "cell_type": "code",
      "metadata": {
        "id": "AJR0z81gbTon"
      },
      "source": [
        "## a common line graph\n",
        "x = [0,1,2,3,4,5,6]\n",
        "y = [3,2,1,0,1,2,3]\n",
        "\n",
        "## plot\n",
        "plt.plot(x,y)\n",
        "plt.show()"
      ],
      "execution_count": null,
      "outputs": []
    },
    {
      "cell_type": "markdown",
      "metadata": {
        "id": "DtZvU5StdE-s"
      },
      "source": [
        "#### Labeling"
      ]
    },
    {
      "cell_type": "code",
      "metadata": {
        "id": "EVbpNRwIdyGU"
      },
      "source": [
        "plt.plot(x,y)\n",
        "\n",
        "plt.xlabel(\"x-axis\")\n",
        "plt.title(\"Line Graph\")\n",
        "plt.ylabel(\"y-axis\")\n",
        "plt.show()"
      ],
      "execution_count": null,
      "outputs": []
    },
    {
      "cell_type": "markdown",
      "metadata": {
        "id": "J0MTwJ9pedWE"
      },
      "source": [
        "#### Using NumPy functions"
      ]
    },
    {
      "cell_type": "code",
      "metadata": {
        "id": "3jM6vPKkezcr"
      },
      "source": [
        "## loading library\n",
        "import numpy as np"
      ],
      "execution_count": null,
      "outputs": []
    },
    {
      "cell_type": "markdown",
      "metadata": {
        "id": "NYJJnF7yS0O3"
      },
      "source": [
        "##### `sin` plot"
      ]
    },
    {
      "cell_type": "code",
      "metadata": {
        "id": "FcPxQhDaRx9D"
      },
      "source": [
        "# x co-ordinates\n",
        "x = np.arange(0,3*np.pi, 0.1)\n",
        "x[:5]"
      ],
      "execution_count": null,
      "outputs": []
    },
    {
      "cell_type": "code",
      "metadata": {
        "id": "WtnIx-_tRx6T"
      },
      "source": [
        "# y co-ordinates\n",
        "y = np.sin(x)\n",
        "y[:5]"
      ],
      "execution_count": null,
      "outputs": []
    },
    {
      "cell_type": "code",
      "metadata": {
        "id": "KZhLkywfRxvX"
      },
      "source": [
        "## ploting the `sin` function on graph\n",
        "plt.plot(x,y)\n",
        "\n",
        "## placing the identifiers\n",
        "plt.title(\"sin graph\")\n",
        "plt.xlabel(\"angle (radian)\")\n",
        "plt.ylabel(\"sin(angle)\")\n",
        "\n",
        "## showing the graph\n",
        "plt.show()"
      ],
      "execution_count": null,
      "outputs": []
    },
    {
      "cell_type": "markdown",
      "metadata": {
        "id": "aYxfuLf2U0Bo"
      },
      "source": [
        "**`cos` & `tan` plots**"
      ]
    },
    {
      "cell_type": "code",
      "metadata": {
        "id": "YpJRLR5lU4Ry"
      },
      "source": [
        "## y axis as cos values\n",
        "y = np.cos(x)\n",
        "y[:5]"
      ],
      "execution_count": null,
      "outputs": []
    },
    {
      "cell_type": "code",
      "metadata": {
        "id": "isSrewTwU4R_"
      },
      "source": [
        "## ploting the `sin` function on graph\n",
        "plt.plot(x,y)\n",
        "\n",
        "## placing the identifiers\n",
        "plt.title(\"cos graph\")\n",
        "plt.xlabel(\"x-axis\")\n",
        "plt.ylabel(\"y-axis\")\n",
        "\n",
        "## showing the graph\n",
        "plt.show()"
      ],
      "execution_count": null,
      "outputs": []
    },
    {
      "cell_type": "code",
      "metadata": {
        "id": "00gpDUkyRxbl"
      },
      "source": [
        "## y axis as cos values\n",
        "y = np.tan(x)\n",
        "y[:5]"
      ],
      "execution_count": null,
      "outputs": []
    },
    {
      "cell_type": "code",
      "metadata": {
        "id": "n8V5cuI1TxYc"
      },
      "source": [
        "## ploting the `sin` function on graph\n",
        "plt.plot(x,y)\n",
        "\n",
        "## placing the identifiers\n",
        "plt.title(\"tan graph\")\n",
        "plt.xlabel(\"x-axis\")\n",
        "plt.ylabel(\"y-axis\")\n",
        "\n",
        "## showing the graph\n",
        "plt.show()"
      ],
      "execution_count": null,
      "outputs": []
    },
    {
      "cell_type": "markdown",
      "metadata": {
        "id": "oPxghGhYfHhz"
      },
      "source": [
        "#### Adding Style\n",
        "* Multiple plots on same canvas  \n",
        "* Colour selection"
      ]
    },
    {
      "cell_type": "code",
      "metadata": {
        "id": "J1oJDMyZfTZP"
      },
      "source": [
        "## loading library\n",
        "from matplotlib import style"
      ],
      "execution_count": null,
      "outputs": []
    },
    {
      "cell_type": "markdown",
      "metadata": {
        "id": "QzvIsILyffHP"
      },
      "source": [
        "##### Multiple plots"
      ]
    },
    {
      "cell_type": "code",
      "metadata": {
        "id": "rNwA22w0fjZZ"
      },
      "source": [
        "## data for plot-1\n",
        "x1 = range(3,8,2)\n",
        "y1 = range(1,10,4)\n",
        "\n",
        "## data for plot-2\n",
        "x2 = [2,6,9]\n",
        "y2 = [2,10,2]"
      ],
      "execution_count": null,
      "outputs": []
    },
    {
      "cell_type": "code",
      "metadata": {
        "id": "wqR78jqUfjWy"
      },
      "source": [
        "# first plot\n",
        "plt.plot(x1,y1,'g',label='line-1',linewidth=5)\n",
        "# second plot\n",
        "plt.plot(x2,y2,'#ff0000',label='line-2',linewidth=5)\n",
        "plt.title(\"Line Graph\")\n",
        "plt.xlabel(\"x-axis\")\n",
        "plt.ylabel(\"y-axis\")\n",
        "\n",
        "### adding lagend\n",
        "plt.legend()  ## for indication of significance of 2 colours\n",
        "\n",
        "## display\n",
        "plt.show()"
      ],
      "execution_count": null,
      "outputs": []
    },
    {
      "cell_type": "markdown",
      "metadata": {
        "id": "YykUzvlxj_wc"
      },
      "source": [
        "#### Using `ggplot`"
      ]
    },
    {
      "cell_type": "code",
      "metadata": {
        "id": "FVdNdpkfk430"
      },
      "source": [
        "style.use(\"ggplot\")"
      ],
      "execution_count": null,
      "outputs": []
    },
    {
      "cell_type": "code",
      "metadata": {
        "id": "oRHreI16fjR1"
      },
      "source": [
        "plt.plot(x1,y1,'b',label='line-1',linewidth=5)\n",
        "plt.plot(x2,y2,'#ff00ff',label='line-2',linewidth=5)\n",
        "\n",
        "plt.title(\"Line Graph\")\n",
        "plt.xlabel(\"x-axis\")\n",
        "plt.ylabel(\"y-axis\")\n",
        "\n",
        "### adding lagend\n",
        "plt.legend()  ## for indication of significance of 2 colours\n",
        "\n",
        "## display\n",
        "plt.show()"
      ],
      "execution_count": null,
      "outputs": []
    },
    {
      "cell_type": "markdown",
      "metadata": {
        "id": "M7wT6Q0FXdKO"
      },
      "source": [
        "## Few common visualizations:\n",
        "* Bar Plot  \n",
        "* Histogram  \n",
        "* Scatter Plot  \n",
        "* Area Plot  "
      ]
    },
    {
      "cell_type": "code",
      "metadata": {
        "id": "i0Sre9Bymn7U"
      },
      "source": [
        "import requests\n",
        "\n",
        "def downloadCSV(fileURL, saveAs='downloaded.csv'):\n",
        "  req = requests.get(fileURL)\n",
        "  fileURLContent = req.content\n",
        "  csv_file = open(saveAs, 'wb')\n",
        "\n",
        "  csv_file.write(fileURLContent)\n",
        "  csv_file.close()"
      ],
      "execution_count": null,
      "outputs": []
    },
    {
      "cell_type": "markdown",
      "metadata": {
        "id": "0TsfSoOgl3v9"
      },
      "source": [
        "### Bar Graph\n",
        "When we have catagorical variable"
      ]
    },
    {
      "cell_type": "code",
      "metadata": {
        "id": "TN--vqjaXXRi"
      },
      "source": [
        "## drawing bars\n",
        "plt.bar([1,3,5,7],[5,6,3,8],label=\"Bar-1\",color='g')\n",
        "plt.bar([2,4,6,8],[2,4,2,5],label=\"Bar-2\", color='b')\n",
        "\n",
        "## other decorations\n",
        "plt.legend()\n",
        "plt.title('Bar Graph')\n",
        "plt.xlabel('x-axis')\n",
        "plt.ylabel('height')\n",
        "plt.show()"
      ],
      "execution_count": null,
      "outputs": []
    },
    {
      "cell_type": "markdown",
      "metadata": {
        "id": "KSCx1eHzsRQC"
      },
      "source": [
        "### Histogram\n",
        "When we have quantitative variable"
      ]
    },
    {
      "cell_type": "markdown",
      "metadata": {
        "id": "cf533_Yyv0cI"
      },
      "source": [
        "#### using dummy data"
      ]
    },
    {
      "cell_type": "code",
      "metadata": {
        "id": "UqPRtk6SbOs2"
      },
      "source": [
        "age = [21,22,65,13,53,13,22,31,12,4,35,46,65,42,31,13,4,4,22,6,22,3,1]\n",
        "x = range(0,70,10)"
      ],
      "execution_count": null,
      "outputs": []
    },
    {
      "cell_type": "code",
      "metadata": {
        "id": "l0nmFdkTbOqr"
      },
      "source": [
        "## ploting histogram\n",
        "plt.hist(age,x,color='green',rwidth=0.6)\n",
        "\n",
        "## labels\n",
        "plt.title('Histogram')\n",
        "plt.xlabel('x-axis')\n",
        "plt.ylabel('age')\n",
        "plt.show()"
      ],
      "execution_count": null,
      "outputs": []
    },
    {
      "cell_type": "markdown",
      "metadata": {
        "id": "0pZNQpuEyGMK"
      },
      "source": [
        "### Scatter Plot\n",
        "Used for:\n",
        "* comparing the variables  \n",
        "* co-relation between 2 or more variables  \n",
        "* eg. finding outliers"
      ]
    },
    {
      "cell_type": "code",
      "metadata": {
        "id": "D0nw9uOebOlb"
      },
      "source": [
        "## using random numbers\n",
        "import random\n",
        "\n",
        "x = list(range(20))\n",
        "y = []\n",
        "\n",
        "choices = list(range(50))\n",
        "random.shuffle(choices)\n",
        "for i in x:\n",
        "  y.append(choices.pop())"
      ],
      "execution_count": null,
      "outputs": []
    },
    {
      "cell_type": "code",
      "metadata": {
        "id": "OMpyjj0WzkrP"
      },
      "source": [
        "print(\"x: \",x)\n",
        "print(\"y: \",y)"
      ],
      "execution_count": null,
      "outputs": []
    },
    {
      "cell_type": "code",
      "metadata": {
        "id": "QMrHLSyNzkoo"
      },
      "source": [
        "## drawing the scatter plot\n",
        "plt.scatter(x,y,label='scatter plot',color='#000fff')\n",
        "#plt.legend()\n",
        "\n",
        "## labels\n",
        "plt.title('Scatter Plot')\n",
        "plt.xlabel('x-axis')\n",
        "plt.ylabel('y-axis')\n",
        "plt.show()"
      ],
      "execution_count": null,
      "outputs": []
    },
    {
      "cell_type": "markdown",
      "metadata": {
        "id": "bpBldEAZ0x08"
      },
      "source": [
        "### Area Graph or Stack Graph\n",
        "These are:\n",
        "* similar to line graphs  \n",
        "* represent change over time for a group of the data"
      ]
    },
    {
      "cell_type": "code",
      "metadata": {
        "id": "q3KU28H8zkmQ"
      },
      "source": [
        "# working hours this week\n",
        "days = [1,2,3,4,5]\n",
        "sleeping = [4,5,7,4,6] #in hours"
      ],
      "execution_count": null,
      "outputs": []
    },
    {
      "cell_type": "code",
      "metadata": {
        "id": "cY7-GGR72IRq"
      },
      "source": [
        "## preparing the plot on canvas\n",
        "plt.plot([],[],color='m',label='Sleeping',linewidth=3)\n",
        "\n",
        "## area plot\n",
        "plt.stackplot(days, sleeping, color='m')\n",
        "\n",
        "## labels\n",
        "plt.title('Area/Stack Plot')\n",
        "plt.xlabel('days')\n",
        "plt.ylabel('y-axis')\n",
        "plt.show()"
      ],
      "execution_count": null,
      "outputs": []
    },
    {
      "cell_type": "markdown",
      "metadata": {
        "id": "HC765wnVvwxQ"
      },
      "source": [
        "---\n",
        "\n",
        "### Using External Data"
      ]
    },
    {
      "cell_type": "code",
      "metadata": {
        "id": "cfXW9oQLbPAJ"
      },
      "source": [
        "import pandas as pd\n",
        "\n",
        "## getting the data\n",
        "csvUrl = 'https://raw.githubusercontent.com/ravi-prakash1907/COVID-19-India/master/india-today/ready_to_use/India_dataset_stateWise_summary.csv'\n",
        "\n",
        "## viewing the pulled data\n",
        "df = pd.read_csv(csvUrl)\n",
        "print(\"Shape: \",df.shape)\n",
        "df.head()"
      ],
      "execution_count": null,
      "outputs": []
    },
    {
      "cell_type": "markdown",
      "metadata": {
        "id": "RiJbBHbhs9BN"
      },
      "source": [
        "**data used in this example can be found [here](https://github.com/ravi-prakash1907/COVID-19-India/blob/master/india-today/ready_to_use/India_dataset_stateWise_summary.csv)**"
      ]
    },
    {
      "cell_type": "code",
      "metadata": {
        "id": "V1kuGqKpvNDR"
      },
      "source": [
        "targetCol = 'Confirmed' # 'Close'\n",
        "## dropping zero rows i.e. days when any state had no confirmed COVID cases\n",
        "for i in range(6697):\n",
        "  if df[targetCol].loc[i] != 0:\n",
        "    df.drop(index=i, inplace=True)"
      ],
      "execution_count": null,
      "outputs": []
    },
    {
      "cell_type": "code",
      "metadata": {
        "id": "BhCcy-MzbOwI"
      },
      "source": [
        "df.State.value_counts().plot(kind='bar', figsize=(16,8))\n",
        "plt.title(\"Number of days since first COVID-19 Case (till 27/07/2020)\")\n",
        "plt.ylabel(\"Days till 27th July\")\n",
        "plt.xlabel(\"States\")"
      ],
      "execution_count": null,
      "outputs": []
    },
    {
      "cell_type": "markdown",
      "source": [
        "---"
      ],
      "metadata": {
        "id": "cOluH0rf7zvL"
      }
    },
    {
      "cell_type": "markdown",
      "source": [
        "Access data [**here**](https://github.com/ravi-prakash1907/Predictive-Analytics/blob/tuts/data/NSEI.csv)"
      ],
      "metadata": {
        "id": "k_cvpDWu726y"
      }
    },
    {
      "cell_type": "code",
      "source": [
        "csvUrl = \"https://raw.githubusercontent.com/ravi-prakash1907/Predictive-Analytics/tuts/data/NSEI.csv\"\n",
        "\n",
        "## viewing the pulled data\n",
        "df = pd.read_csv(csvUrl)\n",
        "print(\"Shape: \",df.shape)\n",
        "df.head()"
      ],
      "metadata": {
        "id": "0HYhboWW40tH"
      },
      "execution_count": null,
      "outputs": []
    },
    {
      "cell_type": "markdown",
      "metadata": {
        "id": "yWlwrhFHQa7E"
      },
      "source": [
        "---  \n",
        "---  \n",
        "\n",
        "## Access this Notebook:\n",
        "![matplotlibBasics.png](data:image/png;base64,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)  \n",
        "\n",
        "Link: [https://bit.ly/3vZnoSw](https://bit.ly/3vZnoSw)"
      ]
    }
  ]
}