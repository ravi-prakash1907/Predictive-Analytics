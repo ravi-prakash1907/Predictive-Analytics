{
  "nbformat": 4,
  "nbformat_minor": 0,
  "metadata": {
    "colab": {
      "name": "matplotlib.ipynb",
      "provenance": [],
      "authorship_tag": "ABX9TyPwRgIbsrsysUAVjK1M1GQS",
      "include_colab_link": true
    },
    "kernelspec": {
      "name": "python3",
      "display_name": "Python 3"
    },
    "language_info": {
      "name": "python"
    }
  },
  "cells": [
    {
      "cell_type": "markdown",
      "metadata": {
        "id": "view-in-github",
        "colab_type": "text"
      },
      "source": [
        "<a href=\"https://colab.research.google.com/github/ravi-prakash1907/Predictive-Analytics/blob/tuts/Python%20Basics/matplotlib.ipynb\" target=\"_parent\"><img src=\"https://colab.research.google.com/assets/colab-badge.svg\" alt=\"Open In Colab\"/></a>"
      ]
    },
    {
      "cell_type": "markdown",
      "metadata": {
        "id": "nReEieLsgi-t"
      },
      "source": [
        "# Basics of Matplotlib"
      ]
    },
    {
      "cell_type": "code",
      "metadata": {
        "id": "nF3-gAQjgn53"
      },
      "source": [
        "## loading library\n",
        "import numpy as np\n",
        "import matplotlib.pyplot as plt"
      ],
      "execution_count": 1,
      "outputs": []
    },
    {
      "cell_type": "markdown",
      "metadata": {
        "id": "NYJJnF7yS0O3"
      },
      "source": [
        "#### `sin` plot"
      ]
    },
    {
      "cell_type": "code",
      "metadata": {
        "colab": {
          "base_uri": "https://localhost:8080/"
        },
        "id": "FcPxQhDaRx9D",
        "outputId": "1a57b105-a6be-4895-dea2-44a66415440d"
      },
      "source": [
        "# x co-ordinates\n",
        "x = np.arange(0,3*np.pi, 0.1)\n",
        "x[:5]"
      ],
      "execution_count": 7,
      "outputs": [
        {
          "output_type": "execute_result",
          "data": {
            "text/plain": [
              "array([0. , 0.1, 0.2, 0.3, 0.4])"
            ]
          },
          "metadata": {
            "tags": []
          },
          "execution_count": 7
        }
      ]
    },
    {
      "cell_type": "code",
      "metadata": {
        "colab": {
          "base_uri": "https://localhost:8080/"
        },
        "id": "WtnIx-_tRx6T",
        "outputId": "ed768762-06c3-4364-ba43-0abbb48fef19"
      },
      "source": [
        "# y co-ordinates\n",
        "y = np.sin(x)\n",
        "y[:5]"
      ],
      "execution_count": 8,
      "outputs": [
        {
          "output_type": "execute_result",
          "data": {
            "text/plain": [
              "array([0.        , 0.09983342, 0.19866933, 0.29552021, 0.38941834])"
            ]
          },
          "metadata": {
            "tags": []
          },
          "execution_count": 8
        }
      ]
    },
    {
      "cell_type": "code",
      "metadata": {
        "colab": {
          "base_uri": "https://localhost:8080/",
          "height": 294
        },
        "id": "KZhLkywfRxvX",
        "outputId": "bc6368f0-b647-4509-b707-0ce5db33a2d0"
      },
      "source": [
        "## ploting the `sin` function on graph\n",
        "plt.plot(x,y)\n",
        "\n",
        "## placing the identifiers\n",
        "plt.title(\"sin graph\")\n",
        "plt.xlabel(\"x-axis\")\n",
        "plt.ylabel(\"y-axis\")\n",
        "\n",
        "## showing the graph\n",
        "plt.show()"
      ],
      "execution_count": 10,
      "outputs": [
        {
          "output_type": "display_data",
          "data": {
            "image/png": "[encoded data removed]",
            "text/plain": [
              "<Figure size 432x288 with 1 Axes>"
            ]
          },
          "metadata": {
            "tags": [],
            "needs_background": "light"
          }
        }
      ]
    },
    {
      "cell_type": "markdown",
      "metadata": {
        "id": "aYxfuLf2U0Bo"
      },
      "source": [
        "##### `cos` & `tan` plots"
      ]
    },
    {
      "cell_type": "code",
      "metadata": {
        "colab": {
          "base_uri": "https://localhost:8080/"
        },
        "id": "YpJRLR5lU4Ry",
        "outputId": "c7fc791d-867a-4cb1-fb8d-40fc6c14cdcd"
      },
      "source": [
        "## y axis as cos values\n",
        "y = np.cos(x)\n",
        "y[:5]"
      ],
      "execution_count": 23,
      "outputs": [
        {
          "output_type": "execute_result",
          "data": {
            "text/plain": [
              "array([1.        , 0.99500417, 0.98006658, 0.95533649, 0.92106099])"
            ]
          },
          "metadata": {
            "tags": []
          },
          "execution_count": 23
        }
      ]
    },
    {
      "cell_type": "code",
      "metadata": {
        "colab": {
          "base_uri": "https://localhost:8080/",
          "height": 294
        },
        "id": "isSrewTwU4R_",
        "outputId": "ceee5d5a-d199-4947-a8a1-715799943263"
      },
      "source": [
        "## ploting the `sin` function on graph\n",
        "plt.plot(x,y)\n",
        "\n",
        "## placing the identifiers\n",
        "plt.title(\"cos graph\")\n",
        "plt.xlabel(\"x-axis\")\n",
        "plt.ylabel(\"y-axis\")\n",
        "\n",
        "## showing the graph\n",
        "plt.show()"
      ],
      "execution_count": 24,
      "outputs": [
        {
          "output_type": "display_data",
          "data": {
            "image/png": "[encoded data removed]",
            "text/plain": [
              "<Figure size 432x288 with 1 Axes>"
            ]
          },
          "metadata": {
            "tags": [],
            "needs_background": "light"
          }
        }
      ]
    },
    {
      "cell_type": "code",
      "metadata": {
        "colab": {
          "base_uri": "https://localhost:8080/"
        },
        "id": "00gpDUkyRxbl",
        "outputId": "53fbe4b3-e243-45ea-993a-28319deade4c"
      },
      "source": [
        "## y axis as cos values\n",
        "y = np.tan(x)\n",
        "y[:5]"
      ],
      "execution_count": 20,
      "outputs": [
        {
          "output_type": "execute_result",
          "data": {
            "text/plain": [
              "array([0.        , 0.10033467, 0.20271004, 0.30933625, 0.42279322])"
            ]
          },
          "metadata": {
            "tags": []
          },
          "execution_count": 20
        }
      ]
    },
    {
      "cell_type": "code",
      "metadata": {
        "colab": {
          "base_uri": "https://localhost:8080/",
          "height": 294
        },
        "id": "n8V5cuI1TxYc",
        "outputId": "57f4e286-b986-424d-9e4f-a2200608ac01"
      },
      "source": [
        "## ploting the `sin` function on graph\n",
        "plt.plot(x,y)\n",
        "\n",
        "## placing the identifiers\n",
        "plt.title(\"tan graph\")\n",
        "plt.xlabel(\"x-axis\")\n",
        "plt.ylabel(\"y-axis\")\n",
        "\n",
        "## showing the graph\n",
        "plt.show()"
      ],
      "execution_count": 22,
      "outputs": [
        {
          "output_type": "display_data",
          "data": {
            "image/png": "[encoded data removed]",
            "text/plain": [
              "<Figure size 432x288 with 1 Axes>"
            ]
          },
          "metadata": {
            "tags": [],
            "needs_background": "light"
          }
        }
      ]
    },
    {
      "cell_type": "markdown",
      "metadata": {
        "id": "A40m62A1Vesv"
      },
      "source": [
        "## Significance of visualize!\n",
        "We visualize because just by looking a graph/plot:  \n",
        "* we can see the overall trend of data  \n",
        "* we can interpret how effective every data point is  \n",
        "* we can easily figure out those features on which, the whole trend is highly dependent"
      ]
    },
    {
      "cell_type": "markdown",
      "metadata": {
        "id": "YmDFYncFXYMx"
      },
      "source": [
        "## Visualization using Matplotlib  \n",
        "1. Takes a black canvas\n",
        "2. Plots the desired graph or chart any other visualisation using ```matplotlib.pyplot.plot()```  \n",
        "3. Adds some specifications viz. _title_, _axis names_ etc..  \n",
        "4. Displays the visualization using ```matplotlib.pyplot.show()```\n",
        "\n",
        "---\n"
      ]
    },
    {
      "cell_type": "code",
      "metadata": {
        "id": "AJR0z81gbTon",
        "outputId": "432bbc61-b986-4c22-bc83-3886c00c5ad1",
        "colab": {
          "base_uri": "https://localhost:8080/",
          "height": 264
        }
      },
      "source": [
        "## a common line graph\n",
        "x = range(7)\n",
        "y = [3,2,1,0,1,2,3]\n",
        "\n",
        "## plot\n",
        "plt.plot(x,y)\n",
        "plt.show()"
      ],
      "execution_count": 29,
      "outputs": [
        {
          "output_type": "display_data",
          "data": {
            "image/png": "[encoded data removed]",
            "text/plain": [
              "<Figure size 432x288 with 1 Axes>"
            ]
          },
          "metadata": {
            "tags": [],
            "needs_background": "light"
          }
        }
      ]
    },
    {
      "cell_type": "markdown",
      "metadata": {
        "id": "M7wT6Q0FXdKO"
      },
      "source": [
        "## Few common visualizations:\n",
        "* Bar Plot  \n",
        "* Histogram  \n",
        "* Scatter Plot  \n",
        "* Pie Chart  \n",
        "* Hexagonal Bin Plot  \n",
        "* Area Plot  "
      ]
    },
    {
      "cell_type": "code",
      "metadata": {
        "id": "TN--vqjaXXRi"
      },
      "source": [
        ""
      ],
      "execution_count": null,
      "outputs": []
    },
    {
      "cell_type": "code",
      "metadata": {
        "id": "cfXW9oQLbPAJ"
      },
      "source": [
        ""
      ],
      "execution_count": null,
      "outputs": []
    },
    {
      "cell_type": "code",
      "metadata": {
        "id": "BhCcy-MzbOwI"
      },
      "source": [
        ""
      ],
      "execution_count": null,
      "outputs": []
    },
    {
      "cell_type": "code",
      "metadata": {
        "id": "UqPRtk6SbOs2"
      },
      "source": [
        ""
      ],
      "execution_count": null,
      "outputs": []
    },
    {
      "cell_type": "code",
      "metadata": {
        "id": "l0nmFdkTbOqr"
      },
      "source": [
        ""
      ],
      "execution_count": null,
      "outputs": []
    },
    {
      "cell_type": "code",
      "metadata": {
        "id": "_X1YYnlRbOn6"
      },
      "source": [
        ""
      ],
      "execution_count": null,
      "outputs": []
    },
    {
      "cell_type": "code",
      "metadata": {
        "id": "D0nw9uOebOlb"
      },
      "source": [
        ""
      ],
      "execution_count": null,
      "outputs": []
    },
    {
      "cell_type": "markdown",
      "metadata": {
        "id": "yWlwrhFHQa7E"
      },
      "source": [
        "---  \n",
        "---  \n",
        "\n",
        "## Access this Notebook\n",
        "![matplotlibBasics.png](data:image/png;base64,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)  \n",
        "\n",
        "Link: [https://bit.ly/3vZnoSw](https://bit.ly/3vZnoSw)"
      ]
    }
  ]
}